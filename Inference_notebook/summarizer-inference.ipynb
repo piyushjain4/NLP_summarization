{
 "cells": [
  {
   "cell_type": "markdown",
   "id": "6134e531",
   "metadata": {},
   "source": [
    "## summary of project\n",
    "**compared five SOTA models for summarization task**\n",
    "* T-5\n",
    "* bart\n",
    "* pegasus\n",
    "* longformer\n",
    "* gpt2\n"
   ]
  },
  {
   "cell_type": "markdown",
   "id": "9d215dba",
   "metadata": {},
   "source": [
    "* Transformers is all you need"
   ]
  },
  {
   "cell_type": "code",
   "execution_count": 1,
   "id": "fdddb92e",
   "metadata": {
    "execution": {
     "iopub.execute_input": "2023-08-10T11:35:06.311295Z",
     "iopub.status.busy": "2023-08-10T11:35:06.310343Z",
     "iopub.status.idle": "2023-08-10T11:35:18.725812Z",
     "shell.execute_reply": "2023-08-10T11:35:18.724758Z"
    },
    "papermill": {
     "duration": 12.428668,
     "end_time": "2023-08-10T11:35:18.728155",
     "exception": false,
     "start_time": "2023-08-10T11:35:06.299487",
     "status": "completed"
    },
    "tags": []
   },
   "outputs": [
    {
     "name": "stdout",
     "output_type": "stream",
     "text": [
      "Requirement already satisfied: transformers in /opt/conda/lib/python3.10/site-packages (4.30.2)\r\n",
      "Requirement already satisfied: filelock in /opt/conda/lib/python3.10/site-packages (from transformers) (3.12.2)\r\n",
      "Requirement already satisfied: huggingface-hub<1.0,>=0.14.1 in /opt/conda/lib/python3.10/site-packages (from transformers) (0.16.4)\r\n",
      "Requirement already satisfied: numpy>=1.17 in /opt/conda/lib/python3.10/site-packages (from transformers) (1.23.5)\r\n",
      "Requirement already satisfied: packaging>=20.0 in /opt/conda/lib/python3.10/site-packages (from transformers) (21.3)\r\n",
      "Requirement already satisfied: pyyaml>=5.1 in /opt/conda/lib/python3.10/site-packages (from transformers) (6.0)\r\n",
      "Requirement already satisfied: regex!=2019.12.17 in /opt/conda/lib/python3.10/site-packages (from transformers) (2023.6.3)\r\n",
      "Requirement already satisfied: requests in /opt/conda/lib/python3.10/site-packages (from transformers) (2.31.0)\r\n",
      "Requirement already satisfied: tokenizers!=0.11.3,<0.14,>=0.11.1 in /opt/conda/lib/python3.10/site-packages (from transformers) (0.13.3)\r\n",
      "Requirement already satisfied: safetensors>=0.3.1 in /opt/conda/lib/python3.10/site-packages (from transformers) (0.3.1)\r\n",
      "Requirement already satisfied: tqdm>=4.27 in /opt/conda/lib/python3.10/site-packages (from transformers) (4.65.0)\r\n",
      "Requirement already satisfied: fsspec in /opt/conda/lib/python3.10/site-packages (from huggingface-hub<1.0,>=0.14.1->transformers) (2023.6.0)\r\n",
      "Requirement already satisfied: typing-extensions>=3.7.4.3 in /opt/conda/lib/python3.10/site-packages (from huggingface-hub<1.0,>=0.14.1->transformers) (4.6.3)\r\n",
      "Requirement already satisfied: pyparsing!=3.0.5,>=2.0.2 in /opt/conda/lib/python3.10/site-packages (from packaging>=20.0->transformers) (3.0.9)\r\n",
      "Requirement already satisfied: charset-normalizer<4,>=2 in /opt/conda/lib/python3.10/site-packages (from requests->transformers) (3.1.0)\r\n",
      "Requirement already satisfied: idna<4,>=2.5 in /opt/conda/lib/python3.10/site-packages (from requests->transformers) (3.4)\r\n",
      "Requirement already satisfied: urllib3<3,>=1.21.1 in /opt/conda/lib/python3.10/site-packages (from requests->transformers) (1.26.15)\r\n",
      "Requirement already satisfied: certifi>=2017.4.17 in /opt/conda/lib/python3.10/site-packages (from requests->transformers) (2023.5.7)\r\n",
      "Note: you may need to restart the kernel to use updated packages.\n"
     ]
    }
   ],
   "source": [
    "pip install transformers"
   ]
  },
  {
   "cell_type": "markdown",
   "id": "1655040d",
   "metadata": {},
   "source": [
    "## Importing dependencies"
   ]
  },
  {
   "cell_type": "code",
   "execution_count": 2,
   "id": "cc0f151e",
   "metadata": {
    "execution": {
     "iopub.execute_input": "2023-08-10T11:35:18.742101Z",
     "iopub.status.busy": "2023-08-10T11:35:18.741626Z",
     "iopub.status.idle": "2023-08-10T11:35:30.454825Z",
     "shell.execute_reply": "2023-08-10T11:35:30.453687Z"
    },
    "papermill": {
     "duration": 11.723446,
     "end_time": "2023-08-10T11:35:30.457597",
     "exception": false,
     "start_time": "2023-08-10T11:35:18.734151",
     "status": "completed"
    },
    "tags": []
   },
   "outputs": [
    {
     "name": "stderr",
     "output_type": "stream",
     "text": [
      "/opt/conda/lib/python3.10/site-packages/scipy/__init__.py:146: UserWarning: A NumPy version >=1.16.5 and <1.23.0 is required for this version of SciPy (detected version 1.23.5\n",
      "  warnings.warn(f\"A NumPy version >={np_minversion} and <{np_maxversion}\"\n",
      "/opt/conda/lib/python3.10/site-packages/tensorflow_io/python/ops/__init__.py:98: UserWarning: unable to load libtensorflow_io_plugins.so: unable to open file: libtensorflow_io_plugins.so, from paths: ['/opt/conda/lib/python3.10/site-packages/tensorflow_io/python/ops/libtensorflow_io_plugins.so']\n",
      "caused by: ['/opt/conda/lib/python3.10/site-packages/tensorflow_io/python/ops/libtensorflow_io_plugins.so: undefined symbol: _ZN3tsl6StatusC1EN10tensorflow5error4CodeESt17basic_string_viewIcSt11char_traitsIcEENS_14SourceLocationE']\n",
      "  warnings.warn(f\"unable to load libtensorflow_io_plugins.so: {e}\")\n",
      "/opt/conda/lib/python3.10/site-packages/tensorflow_io/python/ops/__init__.py:104: UserWarning: file system plugins are not loaded: unable to open file: libtensorflow_io.so, from paths: ['/opt/conda/lib/python3.10/site-packages/tensorflow_io/python/ops/libtensorflow_io.so']\n",
      "caused by: ['/opt/conda/lib/python3.10/site-packages/tensorflow_io/python/ops/libtensorflow_io.so: undefined symbol: _ZTVN10tensorflow13GcsFileSystemE']\n",
      "  warnings.warn(f\"file system plugins are not loaded: {e}\")\n"
     ]
    }
   ],
   "source": [
    "import numpy as np\n",
    "import pandas as pd\n",
    "import tensorflow as tf\n",
    "import matplotlib.pyplot as plt\n",
    "import seaborn as sns\n",
    "\n",
    "#data processing\n",
    "import re, string\n",
    "import nltk\n",
    "\n",
    "from sklearn import preprocessing\n",
    "from sklearn.model_selection import train_test_split\n",
    "\n",
    "\n",
    "#Naive Bayes\n",
    "from sklearn.feature_extraction.text import CountVectorizer\n",
    "from sklearn.feature_extraction.text import TfidfTransformer\n",
    "from sklearn.naive_bayes import MultinomialNB\n",
    "\n",
    "\n",
    "#metrics\n",
    "from sklearn.metrics import accuracy_score, f1_score\n",
    "from sklearn.metrics import classification_report, confusion_matrix\n",
    "\n",
    "#set seed for reproducibility\n",
    "seed=42"
   ]
  },
  {
   "cell_type": "markdown",
   "id": "8523992c",
   "metadata": {},
   "source": [
    "## Loading Data "
   ]
  },
  {
   "cell_type": "code",
   "execution_count": 3,
   "id": "c2f60cc4",
   "metadata": {
    "execution": {
     "iopub.execute_input": "2023-08-10T11:35:30.471573Z",
     "iopub.status.busy": "2023-08-10T11:35:30.470842Z",
     "iopub.status.idle": "2023-08-10T11:35:35.402348Z",
     "shell.execute_reply": "2023-08-10T11:35:35.401227Z"
    },
    "papermill": {
     "duration": 4.943112,
     "end_time": "2023-08-10T11:35:35.406916",
     "exception": false,
     "start_time": "2023-08-10T11:35:30.463804",
     "status": "completed"
    },
    "tags": []
   },
   "outputs": [
    {
     "name": "stdout",
     "output_type": "stream",
     "text": [
      "Downloading and preparing dataset csv/gopalkalpande--bbc-news-summary to /root/.cache/huggingface/datasets/csv/gopalkalpande--bbc-news-summary-2a01b492fd0ba579/0.0.0/433e0ccc46f9880962cc2b12065189766fbb2bee57a221866138fb9203c83519...\n"
     ]
    },
    {
     "data": {
      "application/vnd.jupyter.widget-view+json": {
       "model_id": "3d924cc4658143aaab8e2177cfa0ceab",
       "version_major": 2,
       "version_minor": 0
      },
      "text/plain": [
       "Downloading data files:   0%|          | 0/1 [00:00<?, ?it/s]"
      ]
     },
     "metadata": {},
     "output_type": "display_data"
    },
    {
     "data": {
      "application/vnd.jupyter.widget-view+json": {
       "model_id": "63a2d4f43b844c75804ffe511b73a00a",
       "version_major": 2,
       "version_minor": 0
      },
      "text/plain": [
       "Downloading data:   0%|          | 0.00/7.32M [00:00<?, ?B/s]"
      ]
     },
     "metadata": {},
     "output_type": "display_data"
    },
    {
     "data": {
      "application/vnd.jupyter.widget-view+json": {
       "model_id": "48c8bbec6d86470c9fce73b611d0af0d",
       "version_major": 2,
       "version_minor": 0
      },
      "text/plain": [
       "Extracting data files:   0%|          | 0/1 [00:00<?, ?it/s]"
      ]
     },
     "metadata": {},
     "output_type": "display_data"
    },
    {
     "name": "stdout",
     "output_type": "stream",
     "text": [
      "Dataset csv downloaded and prepared to /root/.cache/huggingface/datasets/csv/gopalkalpande--bbc-news-summary-2a01b492fd0ba579/0.0.0/433e0ccc46f9880962cc2b12065189766fbb2bee57a221866138fb9203c83519. Subsequent calls will reuse this data.\n"
     ]
    },
    {
     "name": "stderr",
     "output_type": "stream",
     "text": [
      "/opt/conda/lib/python3.10/site-packages/datasets/packaged_modules/csv/csv.py:154: FutureWarning: the 'mangle_dupe_cols' keyword is deprecated and will be removed in a future version. Please take steps to stop the use of 'mangle_dupe_cols'\n",
      "  csv_file_reader = pd.read_csv(file, iterator=True, dtype=dtype, **self.config.read_csv_kwargs)\n"
     ]
    },
    {
     "data": {
      "application/vnd.jupyter.widget-view+json": {
       "model_id": "af119242984240af9053c71baace774c",
       "version_major": 2,
       "version_minor": 0
      },
      "text/plain": [
       "  0%|          | 0/1 [00:00<?, ?it/s]"
      ]
     },
     "metadata": {},
     "output_type": "display_data"
    }
   ],
   "source": [
    "from datasets import load_dataset\n",
    "\n",
    "bbc_news = load_dataset(\"gopalkalpande/bbc-news-summary\")\n"
   ]
  },
  {
   "cell_type": "markdown",
   "id": "2a8d393d",
   "metadata": {},
   "source": [
    "## visualizing data"
   ]
  },
  {
   "cell_type": "code",
   "execution_count": 4,
   "id": "3b8a1b2f",
   "metadata": {
    "execution": {
     "iopub.execute_input": "2023-08-10T11:35:35.422282Z",
     "iopub.status.busy": "2023-08-10T11:35:35.421848Z",
     "iopub.status.idle": "2023-08-10T11:35:35.429806Z",
     "shell.execute_reply": "2023-08-10T11:35:35.428788Z"
    },
    "papermill": {
     "duration": 0.018063,
     "end_time": "2023-08-10T11:35:35.431911",
     "exception": false,
     "start_time": "2023-08-10T11:35:35.413848",
     "status": "completed"
    },
    "tags": []
   },
   "outputs": [
    {
     "data": {
      "text/plain": [
       "{'File_path': 'politics',\n",
       " 'Articles': 'Budget to set scene for election..Gordon Brown will seek to put the economy at the centre of Labour\\'s bid for a third term in power when he delivers his ninth Budget at 1230 GMT. He is expected to stress the importance of continued economic stability, with low unemployment and interest rates. The chancellor is expected to freeze petrol duty and raise the stamp duty threshold from £60,000. But the Conservatives and Lib Dems insist voters face higher taxes and more means-testing under Labour...Treasury officials have said there will not be a pre-election giveaway, but Mr Brown is thought to have about £2bn to spare...- Increase in the stamp duty threshold from £60,000. - A freeze on petrol duty. - An extension of tax credit scheme for poorer families. - Possible help for pensioners The stamp duty threshold rise is intended to help first time buyers - a likely theme of all three of the main parties\\' general election manifestos. Ten years ago, buyers had a much greater chance of avoiding stamp duty, with close to half a million properties, in England and Wales alone, selling for less than £60,000. Since then, average UK property prices have more than doubled while the starting threshold for stamp duty has not increased. Tax credits As a result, the number of properties incurring stamp duty has rocketed as has the government\\'s tax take. The Liberal Democrats unveiled their own proposals to raise the stamp duty threshold to £150,000 in February...The Tories are also thought likely to propose increased thresholds, with shadow chancellor Oliver Letwin branding stamp duty a \"classic Labour stealth tax\". The Tories say whatever the chancellor gives away will be clawed back in higher taxes if Labour is returned to power. Shadow Treasury chief secretary George Osborne said: \"Everyone who looks at the British economy at the moment says there has been a sharp deterioration in the public finances, that there is a black hole,\" he said. \"If Labour is elected there will be a very substantial tax increase in the Budget after the election, of the order of around £10bn.\"..But Mr Brown\\'s former advisor Ed Balls, now a parliamentary hopeful, said an examination of Tory plans for the economy showed there would be a £35bn difference in investment by the end of the next parliament between the two main parties. He added: \"I don\\'t accept there is any need for any changes to the plans we have set out to meet our spending commitments.\"..For the Lib Dems David Laws said: \"The chancellor will no doubt tell us today how wonderfully the economy is doing,\" he said. \"But a lot of that is built on an increase in personal and consumer debt over the last few years - that makes the economy quite vulnerable potentially if interest rates ever do have to go up in a significant way.\" SNP leader Alex Salmond said his party would introduce a £2,000 grant for first time buyers, reduce corporation tax and introduce a citizens pension free from means testing. Plaid Cymru\\'s economics spokesman Adam Price said he wanted help to get people on the housing ladder and an increase in the minimum wage to £5.60 an hour.',\n",
       " 'Summaries': '- Increase in the stamp duty threshold from £60,000 - A freeze on petrol duty - An extension of tax credit scheme for poorer families - Possible help for pensioners The stamp duty threshold rise is intended to help first time buyers - a likely theme of all three of the main parties\\' general election manifestos.The chancellor is expected to freeze petrol duty and raise the stamp duty threshold from £60,000.The Tories are also thought likely to propose increased thresholds, with shadow chancellor Oliver Letwin branding stamp duty a \"classic Labour stealth tax\".Tax credits As a result, the number of properties incurring stamp duty has rocketed as has the government\\'s tax take.Since then, average UK property prices have more than doubled while the starting threshold for stamp duty has not increased.For the Lib Dems David Laws said: \"The chancellor will no doubt tell us today how wonderfully the economy is doing,\" he said.The Liberal Democrats unveiled their own proposals to raise the stamp duty threshold to £150,000 in February.\"If Labour is elected there will be a very substantial tax increase in the Budget after the election, of the order of around £10bn.\"'}"
      ]
     },
     "execution_count": 4,
     "metadata": {},
     "output_type": "execute_result"
    }
   ],
   "source": [
    "bbc_news['train'][0]"
   ]
  },
  {
   "cell_type": "code",
   "execution_count": 5,
   "id": "013eb93e",
   "metadata": {
    "execution": {
     "iopub.execute_input": "2023-08-10T11:35:35.447460Z",
     "iopub.status.busy": "2023-08-10T11:35:35.447061Z",
     "iopub.status.idle": "2023-08-10T11:35:35.717933Z",
     "shell.execute_reply": "2023-08-10T11:35:35.716780Z"
    },
    "papermill": {
     "duration": 0.281513,
     "end_time": "2023-08-10T11:35:35.720407",
     "exception": false,
     "start_time": "2023-08-10T11:35:35.438894",
     "status": "completed"
    },
    "tags": []
   },
   "outputs": [
    {
     "data": {
      "text/plain": [
       "<Axes: ylabel='count'>"
      ]
     },
     "execution_count": 5,
     "metadata": {},
     "output_type": "execute_result"
    },
    {
     "data": {
      "image/png": "[encoded data removed]",
      "text/plain": [
       "<Figure size 640x480 with 1 Axes>"
      ]
     },
     "metadata": {},
     "output_type": "display_data"
    }
   ],
   "source": [
    "category_train = bbc_news['train']['File_path']\n",
    "sns.countplot(x=category_train)"
   ]
  },
  {
   "cell_type": "code",
   "execution_count": 6,
   "id": "70dee461",
   "metadata": {
    "execution": {
     "iopub.execute_input": "2023-08-10T11:35:35.736959Z",
     "iopub.status.busy": "2023-08-10T11:35:35.736577Z",
     "iopub.status.idle": "2023-08-10T11:35:35.761646Z",
     "shell.execute_reply": "2023-08-10T11:35:35.760643Z"
    },
    "papermill": {
     "duration": 0.036462,
     "end_time": "2023-08-10T11:35:35.764293",
     "exception": false,
     "start_time": "2023-08-10T11:35:35.727831",
     "status": "completed"
    },
    "tags": []
   },
   "outputs": [],
   "source": [
    "bbc_news.set_format(type='pandas')\n",
    "df_train = bbc_news['train'][:]\n"
   ]
  },
  {
   "cell_type": "markdown",
   "id": "bb01b610",
   "metadata": {},
   "source": [
    "## Preprocessing dataset"
   ]
  },
  {
   "cell_type": "code",
   "execution_count": 7,
   "id": "8e4168d2",
   "metadata": {
    "execution": {
     "iopub.execute_input": "2023-08-10T11:35:35.781851Z",
     "iopub.status.busy": "2023-08-10T11:35:35.781470Z",
     "iopub.status.idle": "2023-08-10T11:37:39.140755Z",
     "shell.execute_reply": "2023-08-10T11:37:39.139563Z"
    },
    "papermill": {
     "duration": 123.370707,
     "end_time": "2023-08-10T11:37:39.143519",
     "exception": false,
     "start_time": "2023-08-10T11:35:35.772812",
     "status": "completed"
    },
    "tags": []
   },
   "outputs": [
    {
     "name": "stdout",
     "output_type": "stream",
     "text": [
      "[nltk_data] Downloading package punkt to /usr/share/nltk_data...\n",
      "[nltk_data]   Package punkt is already up-to-date!\n",
      "Collecting contractions\r\n",
      "  Downloading contractions-0.1.73-py2.py3-none-any.whl (8.7 kB)\r\n",
      "Collecting textsearch>=0.0.21 (from contractions)\r\n",
      "  Downloading textsearch-0.0.24-py2.py3-none-any.whl (7.6 kB)\r\n",
      "Collecting anyascii (from textsearch>=0.0.21->contractions)\r\n",
      "  Downloading anyascii-0.3.2-py3-none-any.whl (289 kB)\r\n",
      "\u001b[2K     \u001b[90m━━━━━━━━━━━━━━━━━━━━━━━━━━━━━━━━━━━━━━━\u001b[0m \u001b[32m289.9/289.9 kB\u001b[0m \u001b[31m5.5 MB/s\u001b[0m eta \u001b[36m0:00:00\u001b[0m\r\n",
      "\u001b[?25hCollecting pyahocorasick (from textsearch>=0.0.21->contractions)\r\n",
      "  Downloading pyahocorasick-2.0.0-cp310-cp310-manylinux_2_5_x86_64.manylinux1_x86_64.manylinux_2_12_x86_64.manylinux2010_x86_64.whl (110 kB)\r\n",
      "\u001b[2K     \u001b[90m━━━━━━━━━━━━━━━━━━━━━━━━━━━━━━━━━━━━━━━\u001b[0m \u001b[32m110.8/110.8 kB\u001b[0m \u001b[31m9.5 MB/s\u001b[0m eta \u001b[36m0:00:00\u001b[0m\r\n",
      "\u001b[?25hInstalling collected packages: pyahocorasick, anyascii, textsearch, contractions\r\n",
      "Successfully installed anyascii-0.3.2 contractions-0.1.73 pyahocorasick-2.0.0 textsearch-0.0.24\r\n",
      "Archive:  /usr/share/nltk_data/corpora/wordnet.zip\r\n",
      "   creating: /usr/share/nltk_data/corpora/wordnet/\r\n",
      "  inflating: /usr/share/nltk_data/corpora/wordnet/lexnames  \r\n",
      "  inflating: /usr/share/nltk_data/corpora/wordnet/data.verb  \r\n",
      "  inflating: /usr/share/nltk_data/corpora/wordnet/index.adv  \r\n",
      "  inflating: /usr/share/nltk_data/corpora/wordnet/adv.exc  \r\n",
      "  inflating: /usr/share/nltk_data/corpora/wordnet/index.verb  \r\n",
      "  inflating: /usr/share/nltk_data/corpora/wordnet/cntlist.rev  \r\n",
      "  inflating: /usr/share/nltk_data/corpora/wordnet/data.adj  \r\n",
      "  inflating: /usr/share/nltk_data/corpora/wordnet/index.adj  \r\n",
      "  inflating: /usr/share/nltk_data/corpora/wordnet/LICENSE  \r\n",
      "  inflating: /usr/share/nltk_data/corpora/wordnet/citation.bib  \r\n",
      "  inflating: /usr/share/nltk_data/corpora/wordnet/noun.exc  \r\n",
      "  inflating: /usr/share/nltk_data/corpora/wordnet/verb.exc  \r\n",
      "  inflating: /usr/share/nltk_data/corpora/wordnet/README  \r\n",
      "  inflating: /usr/share/nltk_data/corpora/wordnet/index.sense  \r\n",
      "  inflating: /usr/share/nltk_data/corpora/wordnet/data.noun  \r\n",
      "  inflating: /usr/share/nltk_data/corpora/wordnet/data.adv  \r\n",
      "  inflating: /usr/share/nltk_data/corpora/wordnet/index.noun  \r\n",
      "  inflating: /usr/share/nltk_data/corpora/wordnet/adj.exc  \r\n"
     ]
    }
   ],
   "source": [
    "import re\n",
    "import nltk\n",
    "nltk.download('punkt')\n",
    "!pip install contractions\n",
    "import contractions\n",
    "from nltk.corpus import stopwords\n",
    "from nltk.stem import WordNetLemmatizer\n",
    "!unzip /usr/share/nltk_data/corpora/wordnet.zip -d /usr/share/nltk_data/corpora/\n",
    "from nltk.tokenize import sent_tokenize\n",
    "from datasets import Dataset,DatasetDict\n",
    "def remove_stopwords(text):\n",
    "    words = text.split()\n",
    "    lemmatizer = WordNetLemmatizer()\n",
    "    processed_text = [word for word in words if word not in stopwords.words('english')]\n",
    "    processed_text = [ lemmatizer.lemmatize(word) for word in processed_text]\n",
    "    return ' '.join(processed_text)\n",
    "def pre_process_df(df1):\n",
    "    df = df1.copy()\n",
    "    for col in ['Articles']:\n",
    "        df[col] = df[col].apply(lambda x: contractions.fix(x))\n",
    "        df[col] = df[col].apply(str.lower)\n",
    "        df[col] = df[col].apply(lambda x: re.sub('[%s]' % re.escape(string.punctuation), ' ' , x))\n",
    "        df[col] = df[col].apply(lambda x: remove_stopwords(x))\n",
    "        df[col] = df[col].apply(lambda x: re.sub(' +', ' ', x))\n",
    "    return df\n",
    "\n",
    "bbc_news_gpt = pre_process_df(df_train)"
   ]
  },
  {
   "cell_type": "code",
   "execution_count": 8,
   "id": "b98b35fd",
   "metadata": {
    "execution": {
     "iopub.execute_input": "2023-08-10T11:37:39.163654Z",
     "iopub.status.busy": "2023-08-10T11:37:39.162592Z",
     "iopub.status.idle": "2023-08-10T11:39:26.614936Z",
     "shell.execute_reply": "2023-08-10T11:39:26.613743Z"
    },
    "papermill": {
     "duration": 107.465237,
     "end_time": "2023-08-10T11:39:26.617889",
     "exception": false,
     "start_time": "2023-08-10T11:37:39.152652",
     "status": "completed"
    },
    "tags": []
   },
   "outputs": [],
   "source": [
    "def pre_process_exceptgpt(df1):\n",
    "    df = df1.copy()\n",
    "    prefix = \"summarize: \"\n",
    "    for col in ['Articles']:\n",
    "        df[col] = df1[col].apply(lambda x: prefix+x)\n",
    "    return df\n",
    "bbc_news_train = pre_process_df(pre_process_exceptgpt(df_train))"
   ]
  },
  {
   "cell_type": "code",
   "execution_count": 9,
   "id": "dd598d01",
   "metadata": {
    "execution": {
     "iopub.execute_input": "2023-08-10T11:39:26.636898Z",
     "iopub.status.busy": "2023-08-10T11:39:26.636090Z",
     "iopub.status.idle": "2023-08-10T11:39:26.648175Z",
     "shell.execute_reply": "2023-08-10T11:39:26.646802Z"
    },
    "papermill": {
     "duration": 0.02466,
     "end_time": "2023-08-10T11:39:26.651172",
     "exception": false,
     "start_time": "2023-08-10T11:39:26.626512",
     "status": "completed"
    },
    "tags": []
   },
   "outputs": [],
   "source": [
    "def add_text(df1):\n",
    "    df = df1.copy()\n",
    "    list_text = []\n",
    "    for article,summary in zip(df['Articles'],df['Summaries']):\n",
    "        new_text = article + \" TL;DR \" + summary\n",
    "        list_text.append(new_text)\n",
    "    df['new_text'] = list_text\n",
    "    return df \n",
    "bbc_news_gpt2 = add_text(bbc_news_gpt)"
   ]
  },
  {
   "cell_type": "code",
   "execution_count": 10,
   "id": "588a7ab7",
   "metadata": {
    "execution": {
     "iopub.execute_input": "2023-08-10T11:39:26.672860Z",
     "iopub.status.busy": "2023-08-10T11:39:26.671703Z",
     "iopub.status.idle": "2023-08-10T11:39:26.691297Z",
     "shell.execute_reply": "2023-08-10T11:39:26.690122Z"
    },
    "papermill": {
     "duration": 0.032906,
     "end_time": "2023-08-10T11:39:26.693856",
     "exception": false,
     "start_time": "2023-08-10T11:39:26.660950",
     "status": "completed"
    },
    "tags": []
   },
   "outputs": [],
   "source": [
    "bbc_news_data = bbc_news['train'][:]"
   ]
  },
  {
   "cell_type": "markdown",
   "id": "1485583d",
   "metadata": {},
   "source": [
    "## Domains of news"
   ]
  },
  {
   "cell_type": "code",
   "execution_count": 11,
   "id": "69a22afa",
   "metadata": {
    "execution": {
     "iopub.execute_input": "2023-08-10T11:39:26.714327Z",
     "iopub.status.busy": "2023-08-10T11:39:26.713888Z",
     "iopub.status.idle": "2023-08-10T11:39:26.724571Z",
     "shell.execute_reply": "2023-08-10T11:39:26.723778Z"
    },
    "papermill": {
     "duration": 0.024177,
     "end_time": "2023-08-10T11:39:26.726992",
     "exception": false,
     "start_time": "2023-08-10T11:39:26.702815",
     "status": "completed"
    },
    "tags": []
   },
   "outputs": [
    {
     "name": "stdout",
     "output_type": "stream",
     "text": [
      "0\n",
      "417\n",
      "927\n",
      "1328\n",
      "1714\n"
     ]
    }
   ],
   "source": [
    "lst = ['politics','sport','tech','entertainment','business']\n",
    "idx = {}\n",
    "for domain in lst :\n",
    "    idx[domain] = bbc_news_train[bbc_news_train['File_path']==domain].index[0]\n",
    "    print(idx[domain])\n"
   ]
  },
  {
   "cell_type": "markdown",
   "id": "cb2547a0",
   "metadata": {
    "papermill": {
     "duration": 0.008373,
     "end_time": "2023-08-10T11:39:26.769663",
     "exception": false,
     "start_time": "2023-08-10T11:39:26.761290",
     "status": "completed"
    },
    "tags": []
   },
   "source": [
    "## MODELS"
   ]
  },
  {
   "cell_type": "markdown",
   "id": "8db9e324",
   "metadata": {},
   "source": [
    "* pipeline for all 5-models"
   ]
  },
  {
   "cell_type": "code",
   "execution_count": 13,
   "id": "5222162c",
   "metadata": {
    "execution": {
     "iopub.execute_input": "2023-08-10T11:39:26.788996Z",
     "iopub.status.busy": "2023-08-10T11:39:26.788322Z",
     "iopub.status.idle": "2023-08-10T11:40:59.102192Z",
     "shell.execute_reply": "2023-08-10T11:40:59.101067Z"
    },
    "papermill": {
     "duration": 92.326742,
     "end_time": "2023-08-10T11:40:59.104927",
     "exception": false,
     "start_time": "2023-08-10T11:39:26.778185",
     "status": "completed"
    },
    "tags": []
   },
   "outputs": [
    {
     "name": "stderr",
     "output_type": "stream",
     "text": [
      "Xformers is not installed correctly. If you want to use memory_efficient_attention to accelerate training use the following command to install Xformers\n",
      "pip install xformers.\n"
     ]
    }
   ],
   "source": [
    "from transformers import pipeline\n",
    "gen_kwargs = {\"length_penalty\":0.8 ,\"max_length\" :120 , \"min_length\" : 60 }\n",
    "t5_id = '/kaggle/input/summarizer-t5/t5-base-finetuned-bbc-lemmatized/checkpoint-1000'\n",
    "bart_id = '/kaggle/input/summarizer-bart/bart-large-cnn-finetuned-bbc-lemmatized/checkpoint-1500'\n",
    "pegasus_id ='/kaggle/input/summarize-pegasus/pegasus-cnn_dailymail-finetuned-bbc-lemmatized/checkpoint-1000'\n",
    "longformer_id = '/kaggle/input/summarizer-longformer/led-base-16384-finetuned-bbc-lemmatized/checkpoint-6500'\n",
    "gpt2_id = '/kaggle/input/summarizer-gpt2/gpt2-medium-finetuned-bbc-lemmatized/checkpoint-11500'\n",
    "t5_summary = pipeline(\"summarization\", model=t5_id)\n",
    "bart_summary = pipeline(\"summarization\", model=bart_id)\n",
    "pegasus_summary = pipeline(\"summarization\", model=pegasus_id)\n",
    "longformer_summary = pipeline(\"summarization\", model=longformer_id)\n",
    "gpt2_summary = pipeline(\"text-generation\", model=gpt2_id)"
   ]
  },
  {
   "cell_type": "markdown",
   "id": "b6946e22",
   "metadata": {},
   "source": [
    "* evaluation metric"
   ]
  },
  {
   "cell_type": "code",
   "execution_count": 14,
   "id": "86eaf4ab",
   "metadata": {
    "execution": {
     "iopub.execute_input": "2023-08-10T11:40:59.124573Z",
     "iopub.status.busy": "2023-08-10T11:40:59.124178Z",
     "iopub.status.idle": "2023-08-10T11:41:01.005956Z",
     "shell.execute_reply": "2023-08-10T11:41:01.004590Z"
    },
    "papermill": {
     "duration": 1.895013,
     "end_time": "2023-08-10T11:41:01.008867",
     "exception": false,
     "start_time": "2023-08-10T11:40:59.113854",
     "status": "completed"
    },
    "tags": []
   },
   "outputs": [],
   "source": [
    "from torchmetrics.text.rouge import ROUGEScore\n",
    "rouge = ROUGEScore()"
   ]
  },
  {
   "cell_type": "markdown",
   "id": "4ec783ff",
   "metadata": {},
   "source": [
    "* function for printing summaries and their scores for all 5 models"
   ]
  },
  {
   "cell_type": "code",
   "execution_count": 15,
   "id": "c91098c3",
   "metadata": {
    "execution": {
     "iopub.execute_input": "2023-08-10T11:41:01.030862Z",
     "iopub.status.busy": "2023-08-10T11:41:01.030447Z",
     "iopub.status.idle": "2023-08-10T11:41:01.047994Z",
     "shell.execute_reply": "2023-08-10T11:41:01.046877Z"
    },
    "papermill": {
     "duration": 0.031036,
     "end_time": "2023-08-10T11:41:01.050324",
     "exception": false,
     "start_time": "2023-08-10T11:41:01.019288",
     "status": "completed"
    },
    "tags": []
   },
   "outputs": [],
   "source": [
    "def print_summary(idx):\n",
    "    article = bbc_news_data['Articles'][idx]\n",
    "    review = bbc_news_gpt['Articles'][idx]\n",
    "    summary = bbc_news_data['Summaries'][idx]\n",
    "    \n",
    "    \n",
    "    summary_t5 = t5_summary(bbc_news_train[\"Articles\"][idx],**gen_kwargs)[0][\"summary_text\"]\n",
    "    summary_bart = bart_summary(bbc_news_train[\"Articles\"][idx],**gen_kwargs)[0][\"summary_text\"]\n",
    "    summary_pegasus = pegasus_summary(bbc_news_train[\"Articles\"][idx],**gen_kwargs)[0][\"summary_text\"]\n",
    "    summary_longformer = longformer_summary(bbc_news_train[\"Articles\"][idx],**gen_kwargs)[0][\"summary_text\"]\n",
    "    summary_gpt2 = gpt2_summary(bbc_news_gpt2[\"new_text\"][idx],**gen_kwargs)[0][\"generated_text\"]\n",
    "    final_gpt2 = summary_gpt2.replace(review + ' TL;DR ', ' ')\n",
    "\n",
    "\n",
    "    rogue_t5 = rouge(summary,summary_t5)\n",
    "    result_t5 = {key: value.numpy() * 100 for key, value in rogue_t5.items()}\n",
    "    result_t5 = { k: round(v, 4) for k, v in result_t5.items() }\n",
    "    \n",
    "    \n",
    "    rogue_bart = rouge(summary,summary_bart)\n",
    "    result_bart = {key: value.numpy() * 100 for key, value in rogue_bart.items()}\n",
    "    result_bart = { k: round(v, 4) for k, v in result_bart.items() }\n",
    "    \n",
    "    rogue_pegasus = rouge(summary,summary_pegasus)\n",
    "    result_pegasus = {key: value.numpy() * 100 for key, value in rogue_pegasus.items()}\n",
    "    result_pegasus = { k: round(v, 4) for k, v in result_pegasus.items() }\n",
    "    \n",
    "    \n",
    "    rogue_longformer = rouge(summary,summary_longformer)\n",
    "    result_longformer = {key: value.numpy() * 100 for key, value in rogue_longformer.items()}\n",
    "    result_longformer = { k: round(v, 4) for k, v in result_longformer.items() }\n",
    "    \n",
    "    \n",
    "    rogue_gpt2 = rouge(summary,final_gpt2)\n",
    "    result_gpt2= {key: value.numpy() * 100 for key, value in rogue_gpt2.items()}\n",
    "    result_gpt2 = { k: round(v, 4) for k, v in result_gpt2.items() }\n",
    "    \n",
    "    \n",
    "    print(f\"'>>> article: {article}'\")\n",
    "    \n",
    "    \n",
    "    print(f\"\\n'>>> Summary_t5: {summary_t5}'\")\n",
    "    print('>>T5_rogue1 : ',result_t5['rouge1_fmeasure'])\n",
    "    print('>>T5_rogueL : ',result_t5['rougeL_fmeasure'])\n",
    "    \n",
    "    \n",
    "    print(f\"\\n'>>> Summary_bart: {summary_bart}'\")\n",
    "    print('>>bart_rogue1 : ',result_bart['rouge1_fmeasure'])\n",
    "    print('>>bart_rogueL : ',result_bart['rougeL_fmeasure'])\n",
    "    \n",
    "    \n",
    "    print(f\"\\n'>>> Summary_pegasus: {summary_pegasus}'\")\n",
    "    print('>>pegasus_rogue1 : ',result_pegasus['rouge1_fmeasure'])\n",
    "    print('>>pegasus_rogueL : ',result_pegasus['rougeL_fmeasure'])\n",
    "    \n",
    "    \n",
    "    print(f\"\\n'>>> Summary_longformer: {summary_longformer}'\")\n",
    "    print('>>longformer_rogue1 : ',result_longformer['rouge1_fmeasure'])\n",
    "    print('>>longformer_rogueL : ',result_longformer['rougeL_fmeasure'])\n",
    "    \n",
    "    print(f\"\\n'>>> Summary_gpt2: {final_gpt2}'\")\n",
    "    print('>>gpt2_rogue1 : ',result_gpt2['rouge1_fmeasure'])\n",
    "    print('>>gpt2_rogueL : ',result_gpt2['rougeL_fmeasure'])"
   ]
  },
  {
   "cell_type": "code",
   "execution_count": 16,
   "id": "4acd4ae2",
   "metadata": {
    "execution": {
     "iopub.execute_input": "2023-08-10T11:41:01.073865Z",
     "iopub.status.busy": "2023-08-10T11:41:01.072634Z",
     "iopub.status.idle": "2023-08-10T11:42:13.144288Z",
     "shell.execute_reply": "2023-08-10T11:42:13.142421Z"
    },
    "papermill": {
     "duration": 72.088421,
     "end_time": "2023-08-10T11:42:13.148366",
     "exception": false,
     "start_time": "2023-08-10T11:41:01.059945",
     "status": "completed"
    },
    "tags": []
   },
   "outputs": [
    {
     "name": "stderr",
     "output_type": "stream",
     "text": [
      "Setting `pad_token_id` to `eos_token_id`:50256 for open-end generation.\n",
      "Input length of input_ids is 600, but `max_length` is set to 120. This can lead to unexpected behavior. You should consider increasing `max_new_tokens`.\n"
     ]
    },
    {
     "name": "stdout",
     "output_type": "stream",
     "text": [
      "'>>> article: Budget to set scene for election..Gordon Brown will seek to put the economy at the centre of Labour's bid for a third term in power when he delivers his ninth Budget at 1230 GMT. He is expected to stress the importance of continued economic stability, with low unemployment and interest rates. The chancellor is expected to freeze petrol duty and raise the stamp duty threshold from £60,000. But the Conservatives and Lib Dems insist voters face higher taxes and more means-testing under Labour...Treasury officials have said there will not be a pre-election giveaway, but Mr Brown is thought to have about £2bn to spare...- Increase in the stamp duty threshold from £60,000. - A freeze on petrol duty. - An extension of tax credit scheme for poorer families. - Possible help for pensioners The stamp duty threshold rise is intended to help first time buyers - a likely theme of all three of the main parties' general election manifestos. Ten years ago, buyers had a much greater chance of avoiding stamp duty, with close to half a million properties, in England and Wales alone, selling for less than £60,000. Since then, average UK property prices have more than doubled while the starting threshold for stamp duty has not increased. Tax credits As a result, the number of properties incurring stamp duty has rocketed as has the government's tax take. The Liberal Democrats unveiled their own proposals to raise the stamp duty threshold to £150,000 in February...The Tories are also thought likely to propose increased thresholds, with shadow chancellor Oliver Letwin branding stamp duty a \"classic Labour stealth tax\". The Tories say whatever the chancellor gives away will be clawed back in higher taxes if Labour is returned to power. Shadow Treasury chief secretary George Osborne said: \"Everyone who looks at the British economy at the moment says there has been a sharp deterioration in the public finances, that there is a black hole,\" he said. \"If Labour is elected there will be a very substantial tax increase in the Budget after the election, of the order of around £10bn.\"..But Mr Brown's former advisor Ed Balls, now a parliamentary hopeful, said an examination of Tory plans for the economy showed there would be a £35bn difference in investment by the end of the next parliament between the two main parties. He added: \"I don't accept there is any need for any changes to the plans we have set out to meet our spending commitments.\"..For the Lib Dems David Laws said: \"The chancellor will no doubt tell us today how wonderfully the economy is doing,\" he said. \"But a lot of that is built on an increase in personal and consumer debt over the last few years - that makes the economy quite vulnerable potentially if interest rates ever do have to go up in a significant way.\" SNP leader Alex Salmond said his party would introduce a £2,000 grant for first time buyers, reduce corporation tax and introduce a citizens pension free from means testing. Plaid Cymru's economics spokesman Adam Price said he wanted help to get people on the housing ladder and an increase in the minimum wage to £5.60 an hour.'\n",
      "\n",
      "'>>> Summary_t5: Mr Brown, former advisor Ed Ball, a parliamentary hopeful, said an examination of the Tories' plan for the economy showed it would make a £35bn difference in investment by the end of next parliament.The Tories also thought it likely to propose an increased threshold, but the Liberal Democrat unveiled a proposal to raise the stamp duty threshold by £150,000 in February.The Conservatives insist the voter will face a higher tax and mean testing the Labour Treasury'\n",
      ">>T5_rogue1 :  31.0469\n",
      ">>T5_rogueL :  23.8267\n",
      "\n",
      "'>>> Summary_bart: The chancellor is expected to freeze petrol duty and raise the stamp duty threshold from £60,000.But he is also thought likely to propose increased thresholds, with shadow chancellor Oliver Letwin branding stamp duty as \"a classic Labour stealth tax\".Mr Brown thought to have £2bn spare to increase the Stamp Duty threshold from -60, and a freeze on petrol duty, and an extension of tax credit scheme for poorer families, as well as possible help for pensioners.The stamp'\n",
      ">>bart_rogue1 :  50.8961\n",
      ">>bart_rogueL :  32.9749\n",
      "\n",
      "'>>> Summary_pegasus: The Tories are also thought likely to propose an increase in the stamp duty threshold from £150, 000 to £150, 000 in February.Tory leader Alex Salmond said his party would introduce a £2, 000 grant for the first time buyers to reduce their corporation tax and introduce a citizen's pension free.Mr Brown, former advisor to Ed Balls, said the examination of the Tory plan showed that it would have a £35bn difference in investment by the end of next Parliament.The Tories are also thought likely to propose an increase in the stamp duty threshold from £150, 000 to £150, 000'\n",
      ">>pegasus_rogue1 :  36.4238\n",
      ">>pegasus_rogueL :  21.8543\n",
      "\n",
      "'>>> Summary_longformer: Shadow Treasury chief secretary George Osborne said: \"Everyone will look at the British economy at the moment and say there is a sharp deterioration in public finance and a black hole,\" he said.Mr Brown thought he had £2bn to spare to increase the stamp duty threshold from £60,000.The chancellor is expected to freeze petrol duty and raise the stamp duty threshold from £60,000.The Liberal Democrat unveiled its proposal to raise the stamp duty threshold from £150,000 in February, while Tory is also thought to be likely to propose an increased threshold.Labour has returned to power'\n",
      ">>longformer_rogue1 :  44.0\n",
      ">>longformer_rogueL :  26.6667\n",
      "\n",
      "'>>> Summary_gpt2:  - Increase in the stamp duty threshold from £60,000 - A freeze on petrol duty - An extension of tax credit scheme for poorer families - Possible help for pensioners The stamp duty threshold rise is intended to help first time buyers - a likely theme of all three of the main parties' general election manifestos.The chancellor is expected to freeze petrol duty and raise the stamp duty threshold from £60,000.The Tories are also thought likely to propose increased thresholds, with shadow chancellor Oliver Letwin branding stamp duty a \"classic Labour stealth tax\".Tax credits As a result, the number of properties incurring stamp duty has rocketed as has the government's tax take.Since then, average UK property prices have more than doubled while the starting threshold for stamp duty has not increased.For the Lib Dems David Laws said: \"The chancellor will no doubt tell us today how wonderfully the economy is doing,\" he said.The Liberal Democrats unveiled their own proposals to raise the stamp duty threshold to £150,000 in February.\"If Labour is elected there will be a very substantial tax increase in the Budget after the election, of the order of around £10bn.\"The'\n",
      ">>gpt2_rogue1 :  99.7481\n",
      ">>gpt2_rogueL :  99.7481\n"
     ]
    }
   ],
   "source": [
    "print_summary(idx['politics'])"
   ]
  },
  {
   "cell_type": "code",
   "execution_count": 17,
   "id": "000ab40d",
   "metadata": {
    "execution": {
     "iopub.execute_input": "2023-08-10T11:42:13.171784Z",
     "iopub.status.busy": "2023-08-10T11:42:13.171347Z",
     "iopub.status.idle": "2023-08-10T11:43:19.428685Z",
     "shell.execute_reply": "2023-08-10T11:43:19.427335Z"
    },
    "papermill": {
     "duration": 66.272483,
     "end_time": "2023-08-10T11:43:19.431446",
     "exception": false,
     "start_time": "2023-08-10T11:42:13.158963",
     "status": "completed"
    },
    "tags": []
   },
   "outputs": [
    {
     "name": "stderr",
     "output_type": "stream",
     "text": [
      "Setting `pad_token_id` to `eos_token_id`:50256 for open-end generation.\n",
      "Input length of input_ids is 656, but `max_length` is set to 120. This can lead to unexpected behavior. You should consider increasing `max_new_tokens`.\n"
     ]
    },
    {
     "name": "stdout",
     "output_type": "stream",
     "text": [
      "'>>> article: Digital UK driven by net and TV..The UK's adoption of digital TV and broadband has helped make it the fourth most digitally-savvy nation in Europe, according a report by Jupiter Research...But the UK still lags in terms of broadband speeds compared to others. The most digitally sophisticated Europeans, in terms of use of digital goods such as mobiles, TV, net and cameras, are the Scandinavians. About 14 million households in the UK, 60%, have digital TV, according to the communications regulator Ofcom. The least digital of the European nations was Greece, in 17th position, according to the Digital Life Index...Scandinavian countries Sweden, Denmark and Norway came out top in the report, but there were some differences in technology trends. \"The European Digital Life Index demonstrates that digital lifestyles are common today, but across Europe there is no single digital lifestyle,\" said Nate Elliott, Jupiter analyst. \"Consumers adopt different digital products and services in different countries.\"..Although there are differences between different European nations, the gap between them is closing, the report concluded. The trend for gadgets and technologies, such as digital video recorders (DVR), broadband, and video-on-demand will continue across Europe, he added. More than six million UK households now have broadband net. By the middle of 2005, it is estimated that 50% of all UK net users will be on broadband. Cable company NTL is trialling faster ADSL (Asymmetric Digital Subscriber Line) broadband technology using ADSL2+ which can give speeds of 18Mbps compared to current speeds which are usually around 1Mbps or 2Mbps. BT is set to trial the technology later in the year. Super-fast broadband will be necessary to the delivery of services such as high-definition TV (HDTV) and video-on-demand, already very popular in France and other European countries...A separate survey by GMIPoll last week found that, globally, people's appetite for technology and gadgets continues unabated. The poll of 20,000 people in 20 countries found that 59% wanted more technology...The computer was the \"must-have\" gadget for most people (75%). The TV took second place (67%), while the mobile was ranked in third position with 54%. Digital cameras were the most popular choice of gadget for 2005, said the survey, with nearly 40% choosing this over wireless, home printing and DVR technologies. However, only 25% of Britons said a digital camera would be their top gadget purchase of the year. Almost a quarter, 22%, said they would be buying some sort of wireless device. Forty-four percent said they would be buying something \"other\". This might include digital music players, or gaming devices. The Nintendo DS, Sony's PSP and Gizmondo all hit the shops in 2005, and the first of the next generation of games consoles, Xbox 2, is set to launch later this year. Jupiter Research's index is calculated using 40 different variables across net users, digital TV adoption, wireless and mobile, online activity, and digital devices.'\n",
      "\n",
      "'>>> Summary_t5: The difference in technology trend across the European Digital Life Index demonstrates the digital lifestyle common today across Europe.UK adoption of digital TV broadband helped make it the fourth most digitally savvy nation in Europe, according to a report by Jupiter Research.An estimated 50 per cent of UK net-user broadband cable company NTL is trialling faster adsl2 - an asymmetric digital subscriber line - broadband technology.The UK still lags in terms of'\n",
      ">>T5_rogue1 :  35.9322\n",
      ">>T5_rogueL :  27.7966\n",
      "\n",
      "'>>> Summary_bart: Jupiter Research's index is calculated using 40 different variables across net users, digital TV adoption, wireless and mobile, online activity, and digital devices.However, only 25% of Britons said a digital camera would be their top gadget purchase of the year.\"The European Digital Life Index demonstrates that digital lifestyles are common today, but across Europe there is no single digital lifestyle,\" said Nate Elliott, Jupiter analyst.The least digital of the European nations was Greece, in 17th position, according to'\n",
      ">>bart_rogue1 :  54.1254\n",
      ">>bart_rogueL :  54.1254\n",
      "\n",
      "'>>> Summary_pegasus: Digital TV broadband helped make the UK the fourth most digitally savvy nation in Europe, according to a report by Jupiter Research.The report concluded that the trend for gadget technology and digital video recorders (DVRs) broadband video demand will continue across Europe.The UK still lags behind in terms of broadband speed compared to other digitally sophisticated European terms such as \"digital good\" mobile TV net cameras and \"Scandinavian\" net cameras.The report concluded that the trend for gadget technology and digital video recorders (DVRs) broadband video demand will continue across Europe, adding six million UK households to'\n",
      ">>pegasus_rogue1 :  44.375\n",
      ">>pegasus_rogueL :  30.625\n",
      "\n",
      "'>>> Summary_longformer: The UK still lag in the term of broadband speed compared to others in the digitally sophisticated European term.The UK's adoption of digital TV and broadband has helped make it the fourth digitally savvy nation in Europe, according to a report by Jupiter Research.The UK still lag in the term of broadband speed compared to others in the digitally sophisticated European term.The most common technology trend in the European digital life index is that of the difference between technology and the trend in the European digital lifestyle, said Nate Elliott, Jupiter analyst.The UK is the second most digitally sophisticated nation in Europe, with the term'\n",
      ">>longformer_rogue1 :  45.3172\n",
      ">>longformer_rogueL :  27.1903\n",
      "\n",
      "'>>> Summary_gpt2:  Jupiter Research's index is calculated using 40 different variables across net users, digital TV adoption, wireless and mobile, online activity, and digital devices.However, only 25% of Britons said a digital camera would be their top gadget purchase of the year.\"The European Digital Life Index demonstrates that digital lifestyles are common today, but across Europe there is no single digital lifestyle,\" said Nate Elliott, Jupiter analyst.The least digital of the European nations was Greece, in 17th position, according to the Digital Life Index.About 14 million households in the UK, 60%, have digital TV, according to the communications regulator Ofcom.The UK's adoption of digital TV and broadband has helped make it the fourth most digitally-savvy nation in Europe, according a report by Jupiter Research.The trend for gadgets and technologies, such as digital video recorders (DVR), broadband, and video-on-demand will continue across Europe, he added.Digital cameras were the most popular choice of gadget for 2005, said the survey, with nearly 40% choosing this over wireless, home printing and DVR technologies.The most digitally sophisticated Europeans, in terms of use of digital goods such as mobiles, TV, net and cameras, are the Scandinavians.More than six million UK households now have broadband net.\"Consumers adopt different digital products and services in different countries.\"The'\n",
      ">>gpt2_rogue1 :  99.7743\n",
      ">>gpt2_rogueL :  99.7743\n"
     ]
    }
   ],
   "source": [
    "print_summary(idx['tech'])"
   ]
  },
  {
   "cell_type": "code",
   "execution_count": 18,
   "id": "40917be2",
   "metadata": {
    "execution": {
     "iopub.execute_input": "2023-08-10T11:43:19.452716Z",
     "iopub.status.busy": "2023-08-10T11:43:19.452311Z",
     "iopub.status.idle": "2023-08-10T11:44:16.972795Z",
     "shell.execute_reply": "2023-08-10T11:44:16.970678Z"
    },
    "papermill": {
     "duration": 57.534774,
     "end_time": "2023-08-10T11:44:16.975953",
     "exception": false,
     "start_time": "2023-08-10T11:43:19.441179",
     "status": "completed"
    },
    "tags": []
   },
   "outputs": [
    {
     "name": "stderr",
     "output_type": "stream",
     "text": [
      "Setting `pad_token_id` to `eos_token_id`:50256 for open-end generation.\n",
      "Input length of input_ids is 357, but `max_length` is set to 120. This can lead to unexpected behavior. You should consider increasing `max_new_tokens`.\n"
     ]
    },
    {
     "name": "stdout",
     "output_type": "stream",
     "text": [
      "'>>> article: Hodges announces rugby retirement..Scarlets and USA Eagles forward Dave Hodges has ended his playing career to pursue a coaching role in the States...The 36-year-old, who has 54 caps, was Llanelli's player of the season in 2001/2, but has battled injury for the last two of his seven years at Stradey. He tore a pectoral muscle against the Ospreys on Boxing Day, an injury that would have kept him out for the season. \"Realising I would be unable to play this season, the club and I agreed to end my contract early,\" said Hodges...\"It allows me to move back to the US and pursue opportunities there and allows the Scarlets to look to the next generation.\" The Scarlets have begun to rebuild their squad for next season after a disappointing Heineken Cup campaign, with plenty more signings and departures expected in the coming weeks...Scarlets chief executive Stuart Gallacher confirmed that 17 of the current squad would be out of contract in the summer. \"We have a deliberate policy whereby around half the squad are coming out of contract and they know they won't all be re-signed, it's a chance to invigorate the squad,\" he said. \"I'm positive about the future of the Scarlets both on and off the field.\" Gallacher was keen to pay tribute to the role back-five forward Hodges has played at Stradey Park, though. \"David has been a highly influential member of our squad for seven years,\" said Gallacher. \"He is a real professional and we thank him for the part he has played in our success. \"I am sure he has an enormous contribution to make to the development of rugby in the US and we wish him and his family well.\" Hodges described his years at Stradey as \"the best time of my life.\"'\n",
      "\n",
      "'>>> Summary_t5: Scarlet's chief executive Stuart Gallacher has confirmed that 17 of his current squad will be on contract this summer.Scarlet forward Dave Hodges has ended his playing career to pursue a coaching role.Gallacher is keen to pay tribute to the role back in the back five forwards he played at Stadey Park, though David was a highly influential member of the squad for seven years,\" he said.The 36-year-old'\n",
      ">>T5_rogue1 :  63.0\n",
      ">>T5_rogueL :  31.0\n",
      "\n",
      "'>>> Summary_bart: \"David has been a highly influential member of the squad for seven years,\" said Gallacher.Scarlets and USA Eagles forward Dave Hodgson has ended his playing career to pursue a coaching role in the States.\"This decision allows Scarlets to look to the next generation and, as we have begun to rebuild our squad for next season, after a disappointing Heineken Cup campaign, there will be plenty of signing and departures expected in the coming weeks.\"It is a deliberate policy whereby'\n",
      ">>bart_rogue1 :  46.89\n",
      ">>bart_rogueL :  31.5789\n",
      "\n",
      "'>>> Summary_pegasus: The 36-year-old, who has 54 caps for Italy, played in the 2001-2 season and battled injury for the last two years of his career.He said: \"It's been the best year of my life and I wish my family well.\"Gallacher is keen to pay tribute to the role played by back-five forward Hodges, who played at Stade'\n",
      ">>pegasus_rogue1 :  49.4737\n",
      ">>pegasus_rogueL :  34.7368\n",
      "\n",
      "'>>> Summary_longformer: \"The club has agreed to end his contract early,\" said Hodgges.Scarlet and USA eagle forward Dave Hodgson has ended his playing career to pursue a coaching role in the state.Hodges described this year's Stradey as \"the best time of his life\".\"It was a deliberate policy whereby around half of the squad are coming out of contract in the summer and we do not know if they will be signed or not, but if we have the chance to invigorate the squad,\" he said.Hodges described this year's Stradey as \"'\n",
      ">>longformer_rogue1 :  48.8688\n",
      ">>longformer_rogueL :  30.7692\n",
      "\n",
      "'>>> Summary_gpt2:  The 36-year-old, who has 54 caps, was Llanelli's player of the season in 2001/2, but has battled injury for the last two of his seven years at Stradey.Gallacher was keen to pay tribute to the role back-five forward Hodges has played at Stradey Park, though.Scarlets and USA Eagles forward Dave Hodges has ended his playing career to pursue a coaching role in the States.\"David has been a highly influential member of our squad for seven years,\" said Gallacher.Scarlets chief executive Stuart Gallacher confirmed that 17 of the current squad would be out of contract in the summer.\"Realising I would be unable to play this season, the club and I agreed to end my contract early,\" said Hodges.H'\n",
      ">>gpt2_rogue1 :  99.6078\n",
      ">>gpt2_rogueL :  99.6078\n"
     ]
    }
   ],
   "source": [
    "print_summary(idx['sport'])"
   ]
  },
  {
   "cell_type": "code",
   "execution_count": 19,
   "id": "8ca572a3",
   "metadata": {
    "execution": {
     "iopub.execute_input": "2023-08-10T11:44:16.997841Z",
     "iopub.status.busy": "2023-08-10T11:44:16.996830Z",
     "iopub.status.idle": "2023-08-10T11:45:16.617296Z",
     "shell.execute_reply": "2023-08-10T11:45:16.616109Z"
    },
    "papermill": {
     "duration": 59.6346,
     "end_time": "2023-08-10T11:45:16.620221",
     "exception": false,
     "start_time": "2023-08-10T11:44:16.985621",
     "status": "completed"
    },
    "tags": []
   },
   "outputs": [
    {
     "name": "stderr",
     "output_type": "stream",
     "text": [
      "Setting `pad_token_id` to `eos_token_id`:50256 for open-end generation.\n",
      "Input length of input_ids is 356, but `max_length` is set to 120. This can lead to unexpected behavior. You should consider increasing `max_new_tokens`.\n"
     ]
    },
    {
     "name": "stdout",
     "output_type": "stream",
     "text": [
      "'>>> article: Super Size Me wins writers' award..Super Size Me director Morgan Spurlock has won the Writers Guild of America's award for documentary feature writing...The Oscar-nominated film followed Spurlock as he ate only McDonald's fast food for an entire month. Spurlock was given the award at a special ceremony at the Roosevelt Hotel in Hollywood on Tuesday. Organisers said the rising popularity of documentary films led them to honour a writer for a documentary screenplay for the first time...Producer Brian Grazer presented the award to Spurlock and the film's backers, Roadside Attractions, Samuel Goldwyn Films and Showtime Independent Films. Spurlock set out to discover the effect of living on nothing but McDonald's for a month, upgrading to supersize portions when offered. The film followed his 25lb weight gain and the health effects on his body, including his liver and cholesterol levels. McDonald's announced it was to scrap its \"supersized\" meals last year, but denied the move was as a result of the negative publicity created by Spurlock's film. Spurlock was given his award on the same day the European Court of Human Rights ruled that two UK activists should have been given legal aid in their long fight against a McDonald's libel action. Helen Steel and David Morris, from north London, dubbed the \"McLibel Two\", were found guilty in a 1990s trial of libelling the company in a leaflet they had been handing out At the end of the case the High Court in London ruled McDonald's had been libelled and awarded the company £60,000 in damages, later reduced to £40,000 on appeal. But he found the leaflet was true in some aspects.'\n",
      "\n",
      "'>>> Summary_t5: Supersize director Morgan Spurlock has won the Writers Guild of America Award for documentary feature.Spurlock was given the award on the same day a European Court of Human Rights ruled that two UK activists had been given legal aid in a long fight against McDonald's libel action.The high court in London ruled McDonald''s had libelled the company and awarded the company £60.000 in damage, later reduced to £40,000 on appeal'\n",
      ">>T5_rogue1 :  47.2362\n",
      ">>T5_rogueL :  38.191\n",
      "\n",
      "'>>> Summary_bart: Spurlock was given his award on the same day the European Court of Human Rights ruled that two UK activists should have been given legal aid in their long fight against a McDonald's libel action.The Oscar-nominated film followed Spurlock as he ate only McDonald's fast food for an entire month.McDonald's announced it was to scrap its \"supersized\" meals last year, but denied the move was a result of the negative publicity created by Spurlock's film.Sp'\n",
      ">>bart_rogue1 :  79.6117\n",
      ">>bart_rogueL :  79.6117\n",
      "\n",
      "'>>> Summary_pegasus: Director Morgan Spurlock has won the Writer's Guild of America's award for documentary feature writing. Spurlock was given the award at a special ceremony at the Roosevelt Hotel in Hollywood on Tuesday, organiser said.The film followed Spurlock ate McDonald's fast food for the entire month he was in.The writer's Guild of America's award for the documentary feature was'\n",
      ">>pegasus_rogue1 :  48.9362\n",
      ">>pegasus_rogueL :  32.9787\n",
      "\n",
      "'>>> Summary_longformer: Spurlock was given his award on the same day the European Court of Human Rights ruled that a two-UK activist should not have been given legal aid in his long fight against a McDonald's libel action.The Oscar-nominated film followed Spurlock as he ate only McDonald's fast food for an entire month.Spurlock was given the award at a special ceremony at the Roosevelt Hotel in Hollywood on Tuesday.McDonald's announced it was to scrap the supersized meal last year, but denied the move was a result of the negative publicity created by Spurlock's film.Sp'\n",
      ">>longformer_rogue1 :  86.2222\n",
      ">>longformer_rogueL :  84.4444\n",
      "\n",
      "'>>> Summary_gpt2:  Spurlock was given his award on the same day the European Court of Human Rights ruled that two UK activists should have been given legal aid in their long fight against a McDonald's libel action.The Oscar-nominated film followed Spurlock as he ate only McDonald's fast food for an entire month.Spurlock was given the award at a special ceremony at the Roosevelt Hotel in Hollywood on Tuesday.McDonald's announced it was to scrap its \"supersized\" meals last year, but denied the move was as a result of the negative publicity created by Spurlock's film.Spurlock set out to discover the effect of living on nothing but McDonald's for a month, upgrading to supersize portions when offered.In'\n",
      ">>gpt2_rogue1 :  99.5951\n",
      ">>gpt2_rogueL :  99.5951\n"
     ]
    }
   ],
   "source": [
    "print_summary(idx['entertainment'])"
   ]
  },
  {
   "cell_type": "code",
   "execution_count": 20,
   "id": "ab2b4c1c",
   "metadata": {
    "execution": {
     "iopub.execute_input": "2023-08-10T11:45:16.641494Z",
     "iopub.status.busy": "2023-08-10T11:45:16.641101Z",
     "iopub.status.idle": "2023-08-10T11:46:15.170676Z",
     "shell.execute_reply": "2023-08-10T11:46:15.169481Z"
    },
    "papermill": {
     "duration": 58.543385,
     "end_time": "2023-08-10T11:46:15.173340",
     "exception": false,
     "start_time": "2023-08-10T11:45:16.629955",
     "status": "completed"
    },
    "tags": []
   },
   "outputs": [
    {
     "name": "stderr",
     "output_type": "stream",
     "text": [
      "Setting `pad_token_id` to `eos_token_id`:50256 for open-end generation.\n",
      "Input length of input_ids is 311, but `max_length` is set to 120. This can lead to unexpected behavior. You should consider increasing `max_new_tokens`.\n"
     ]
    },
    {
     "name": "stdout",
     "output_type": "stream",
     "text": [
      "'>>> article: US consumer confidence up..Consumers' confidence in the state of the US economy is at its highest for five months and they are optimistic about 2005, an influential survey says...The feel-good factor among US consumers rose in December for the first time since July according to new data. The Conference Board survey of 5,000 households pointed to renewed optimism about job creation and economic growth. US retailers have reported strong sales over the past 10 days after a slow start to the crucial festive season...According to figures also released on Tuesday, sales in shopping malls in the week to 25 December were 4.3% higher than in 2003 following a last minute rush. Wal-Mart, the largest US retailer, has said its December sales are expected to be better than previously forecast because of strong post-Christmas sales...It is expecting annual sales growth of between 1% and 3% for the month. Consumer confidence figures are considered a key economic indicator because consumer spending accounts for about two thirds of all economic activity in the United States. \"The continuing economic expansion, combined with job growth, has consumers ending this year on a high note,\" said Lynn Franco, director of the Conference Board's consumer research centre. \"And consumers' outlook suggests that the economy will continue to expand in the first half of next year.\" The overall US economy has performed strongly in recent months, prompting the Federal Reserve to increase interest rates five times since June.'\n",
      "\n",
      "'>>> Summary_t5: Consumer confidence is the state of the U.S. economy's highest five-monthly optimistic in 2005, an influential survey says.The consumer outlook suggests the economy will continue to expand in the first half of next year.The figure is considered a key economic indicator as consumer spending accounts for two-thirds of economic activity in the United States.The largest U. retailer said December's sale was expected to be better than previously forecast.'\n",
      ">>T5_rogue1 :  44.898\n",
      ">>T5_rogueL :  18.3673\n",
      "\n",
      "'>>> Summary_bart: Wal-Mart, the largest US retailer, has said its December sales are expected to be better than previously forecast because of strong post-Christmas sales.\"The continuing economic expansion, combined with job growth, has consumers ending this year on a high note,\" said Lynn Franco, director of the Conference Board's consumer research centre.The feel-good factor among US consumers rose in December for the first time since July according to new data.Consumers' confidence in the state of the US economy'\n",
      ">>bart_rogue1 :  81.7734\n",
      ">>bart_rogueL :  81.7734\n",
      "\n",
      "'>>> Summary_pegasus: According to new data from the Conference Board, a survey of 5 000 households, pointed to renewed optimism about job creation and economic growth.Consumer confidence figures considered a key economic indicator, consumer spending accounts for two-thirds of all economic activity in the United States.Overall, the US economy performed strongly in the recent month, prompting the Federal Reserve to increase interest rates five times since June.Consumer confidence figures considered a key economic indicator, consumer spending accounts for two-thirds of all economic activity in the United States.Overall, the US economy performed strongly in the recent month, prompting the Federal Reserve'\n",
      ">>pegasus_rogue1 :  34.8214\n",
      ">>pegasus_rogueL :  17.8571\n",
      "\n",
      "'>>> Summary_longformer: The consumer confidence figure, considered a key economic indicator because consumer spending account for two third of all economic activity in the United State.Wal-Mart, the largest U.S. retailer, said its December sale had been expected to be better than previously forecast because of a strong post-Christmas sale.The continuing economic expansion, combined with job growth, has the consumer ending the year on a high note,\" said Lynn Franco, director of the Conference Board's consumer research centre.The US economy has performed strongly in recent month, prompting the Federal Reserve to increase its interest rate for the fifth time'\n",
      ">>longformer_rogue1 :  60.0897\n",
      ">>longformer_rogueL :  49.3274\n",
      "\n",
      "'>>> Summary_gpt2:  Wal-Mart, the largest US retailer, has said its December sales are expected to be better than previously forecast because of strong post-Christmas sales.\"The continuing economic expansion, combined with job growth, has consumers ending this year on a high note,\" said Lynn Franco, director of the Conference Board's consumer research centre.The feel-good factor among US consumers rose in December for the first time since July according to new data.Consumers' confidence in the state of the US economy is at its highest for five months and they are optimistic about 2005, an influential survey says.US retailers have reported strong sales over the past 10 days after a slow start to the crucial festive season.In'\n",
      ">>gpt2_rogue1 :  99.5851\n",
      ">>gpt2_rogueL :  99.5851\n"
     ]
    }
   ],
   "source": [
    "print_summary(idx['business'])"
   ]
  }
 ],
 "metadata": {
  "kernelspec": {
   "display_name": "Python 3",
   "language": "python",
   "name": "python3"
  },
  "language_info": {
   "codemirror_mode": {
    "name": "ipython",
    "version": 3
   },
   "file_extension": ".py",
   "mimetype": "text/x-python",
   "name": "python",
   "nbconvert_exporter": "python",
   "pygments_lexer": "ipython3",
   "version": "3.10.12"
  },
  "papermill": {
   "default_parameters": {},
   "duration": 681.641425,
   "end_time": "2023-08-10T11:46:17.908573",
   "environment_variables": {},
   "exception": null,
   "input_path": "__notebook__.ipynb",
   "output_path": "__notebook__.ipynb",
   "parameters": {},
   "start_time": "2023-08-10T11:34:56.267148",
   "version": "2.4.0"
  },
  "widgets": {
   "application/vnd.jupyter.widget-state+json": {
    "state": {
     "0102f2ed03424d55897eec8f86041161": {
      "model_module": "@jupyter-widgets/controls",
      "model_module_version": "1.5.0",
      "model_name": "HTMLModel",
      "state": {
       "_dom_classes": [],
       "_model_module": "@jupyter-widgets/controls",
       "_model_module_version": "1.5.0",
       "_model_name": "HTMLModel",
       "_view_count": null,
       "_view_module": "@jupyter-widgets/controls",
       "_view_module_version": "1.5.0",
       "_view_name": "HTMLView",
       "description": "",
       "description_tooltip": null,
       "layout": "IPY_MODEL_860d6e7fa79c466eab47604e0357707b",
       "placeholder": "​",
       "style": "IPY_MODEL_521257acf20341a6815f489e04bb88e0",
       "value": "Downloading data: 100%"
      }
     },
     "022bee17d7a446b083a38809f541951f": {
      "model_module": "@jupyter-widgets/controls",
      "model_module_version": "1.5.0",
      "model_name": "DescriptionStyleModel",
      "state": {
       "_model_module": "@jupyter-widgets/controls",
       "_model_module_version": "1.5.0",
       "_model_name": "DescriptionStyleModel",
       "_view_count": null,
       "_view_module": "@jupyter-widgets/base",
       "_view_module_version": "1.2.0",
       "_view_name": "StyleView",
       "description_width": ""
      }
     },
     "07b374a02c554af4a056e71ebe6dec78": {
      "model_module": "@jupyter-widgets/controls",
      "model_module_version": "1.5.0",
      "model_name": "HTMLModel",
      "state": {
       "_dom_classes": [],
       "_model_module": "@jupyter-widgets/controls",
       "_model_module_version": "1.5.0",
       "_model_name": "HTMLModel",
       "_view_count": null,
       "_view_module": "@jupyter-widgets/controls",
       "_view_module_version": "1.5.0",
       "_view_name": "HTMLView",
       "description": "",
       "description_tooltip": null,
       "layout": "IPY_MODEL_c8c46bf6388243a4bcc337298eb186e2",
       "placeholder": "​",
       "style": "IPY_MODEL_eb6febc6702349c19d67d876e0149490",
       "value": " 1/1 [00:00&lt;00:00, 46.93it/s]"
      }
     },
     "127db7fd63af47f184ae880b86e46c76": {
      "model_module": "@jupyter-widgets/base",
      "model_module_version": "1.2.0",
      "model_name": "LayoutModel",
      "state": {
       "_model_module": "@jupyter-widgets/base",
       "_model_module_version": "1.2.0",
       "_model_name": "LayoutModel",
       "_view_count": null,
       "_view_module": "@jupyter-widgets/base",
       "_view_module_version": "1.2.0",
       "_view_name": "LayoutView",
       "align_content": null,
       "align_items": null,
       "align_self": null,
       "border": null,
       "bottom": null,
       "display": null,
       "flex": null,
       "flex_flow": null,
       "grid_area": null,
       "grid_auto_columns": null,
       "grid_auto_flow": null,
       "grid_auto_rows": null,
       "grid_column": null,
       "grid_gap": null,
       "grid_row": null,
       "grid_template_areas": null,
       "grid_template_columns": null,
       "grid_template_rows": null,
       "height": null,
       "justify_content": null,
       "justify_items": null,
       "left": null,
       "margin": null,
       "max_height": null,
       "max_width": null,
       "min_height": null,
       "min_width": null,
       "object_fit": null,
       "object_position": null,
       "order": null,
       "overflow": null,
       "overflow_x": null,
       "overflow_y": null,
       "padding": null,
       "right": null,
       "top": null,
       "visibility": null,
       "width": null
      }
     },
     "18ad408fb1cf4957b3855785c8c2cf9d": {
      "model_module": "@jupyter-widgets/base",
      "model_module_version": "1.2.0",
      "model_name": "LayoutModel",
      "state": {
       "_model_module": "@jupyter-widgets/base",
       "_model_module_version": "1.2.0",
       "_model_name": "LayoutModel",
       "_view_count": null,
       "_view_module": "@jupyter-widgets/base",
       "_view_module_version": "1.2.0",
       "_view_name": "LayoutView",
       "align_content": null,
       "align_items": null,
       "align_self": null,
       "border": null,
       "bottom": null,
       "display": null,
       "flex": null,
       "flex_flow": null,
       "grid_area": null,
       "grid_auto_columns": null,
       "grid_auto_flow": null,
       "grid_auto_rows": null,
       "grid_column": null,
       "grid_gap": null,
       "grid_row": null,
       "grid_template_areas": null,
       "grid_template_columns": null,
       "grid_template_rows": null,
       "height": null,
       "justify_content": null,
       "justify_items": null,
       "left": null,
       "margin": null,
       "max_height": null,
       "max_width": null,
       "min_height": null,
       "min_width": null,
       "object_fit": null,
       "object_position": null,
       "order": null,
       "overflow": null,
       "overflow_x": null,
       "overflow_y": null,
       "padding": null,
       "right": null,
       "top": null,
       "visibility": null,
       "width": null
      }
     },
     "2324624967ee40f198b1748071915b9d": {
      "model_module": "@jupyter-widgets/controls",
      "model_module_version": "1.5.0",
      "model_name": "HTMLModel",
      "state": {
       "_dom_classes": [],
       "_model_module": "@jupyter-widgets/controls",
       "_model_module_version": "1.5.0",
       "_model_name": "HTMLModel",
       "_view_count": null,
       "_view_module": "@jupyter-widgets/controls",
       "_view_module_version": "1.5.0",
       "_view_name": "HTMLView",
       "description": "",
       "description_tooltip": null,
       "layout": "IPY_MODEL_18ad408fb1cf4957b3855785c8c2cf9d",
       "placeholder": "​",
       "style": "IPY_MODEL_022bee17d7a446b083a38809f541951f",
       "value": " 1/1 [00:02&lt;00:00,  2.13s/it]"
      }
     },
     "25e7cb26f6cb4b4381ad083917c6db68": {
      "model_module": "@jupyter-widgets/controls",
      "model_module_version": "1.5.0",
      "model_name": "DescriptionStyleModel",
      "state": {
       "_model_module": "@jupyter-widgets/controls",
       "_model_module_version": "1.5.0",
       "_model_name": "DescriptionStyleModel",
       "_view_count": null,
       "_view_module": "@jupyter-widgets/base",
       "_view_module_version": "1.2.0",
       "_view_name": "StyleView",
       "description_width": ""
      }
     },
     "2b6425dda32b4760a622e16e42e9e434": {
      "model_module": "@jupyter-widgets/base",
      "model_module_version": "1.2.0",
      "model_name": "LayoutModel",
      "state": {
       "_model_module": "@jupyter-widgets/base",
       "_model_module_version": "1.2.0",
       "_model_name": "LayoutModel",
       "_view_count": null,
       "_view_module": "@jupyter-widgets/base",
       "_view_module_version": "1.2.0",
       "_view_name": "LayoutView",
       "align_content": null,
       "align_items": null,
       "align_self": null,
       "border": null,
       "bottom": null,
       "display": null,
       "flex": null,
       "flex_flow": null,
       "grid_area": null,
       "grid_auto_columns": null,
       "grid_auto_flow": null,
       "grid_auto_rows": null,
       "grid_column": null,
       "grid_gap": null,
       "grid_row": null,
       "grid_template_areas": null,
       "grid_template_columns": null,
       "grid_template_rows": null,
       "height": null,
       "justify_content": null,
       "justify_items": null,
       "left": null,
       "margin": null,
       "max_height": null,
       "max_width": null,
       "min_height": null,
       "min_width": null,
       "object_fit": null,
       "object_position": null,
       "order": null,
       "overflow": null,
       "overflow_x": null,
       "overflow_y": null,
       "padding": null,
       "right": null,
       "top": null,
       "visibility": null,
       "width": null
      }
     },
     "2c72c6fa713949879ed939c5325625c0": {
      "model_module": "@jupyter-widgets/base",
      "model_module_version": "1.2.0",
      "model_name": "LayoutModel",
      "state": {
       "_model_module": "@jupyter-widgets/base",
       "_model_module_version": "1.2.0",
       "_model_name": "LayoutModel",
       "_view_count": null,
       "_view_module": "@jupyter-widgets/base",
       "_view_module_version": "1.2.0",
       "_view_name": "LayoutView",
       "align_content": null,
       "align_items": null,
       "align_self": null,
       "border": null,
       "bottom": null,
       "display": null,
       "flex": null,
       "flex_flow": null,
       "grid_area": null,
       "grid_auto_columns": null,
       "grid_auto_flow": null,
       "grid_auto_rows": null,
       "grid_column": null,
       "grid_gap": null,
       "grid_row": null,
       "grid_template_areas": null,
       "grid_template_columns": null,
       "grid_template_rows": null,
       "height": null,
       "justify_content": null,
       "justify_items": null,
       "left": null,
       "margin": null,
       "max_height": null,
       "max_width": null,
       "min_height": null,
       "min_width": null,
       "object_fit": null,
       "object_position": null,
       "order": null,
       "overflow": null,
       "overflow_x": null,
       "overflow_y": null,
       "padding": null,
       "right": null,
       "top": null,
       "visibility": null,
       "width": null
      }
     },
     "32d0b6a990f646a08ca0694795c48287": {
      "model_module": "@jupyter-widgets/base",
      "model_module_version": "1.2.0",
      "model_name": "LayoutModel",
      "state": {
       "_model_module": "@jupyter-widgets/base",
       "_model_module_version": "1.2.0",
       "_model_name": "LayoutModel",
       "_view_count": null,
       "_view_module": "@jupyter-widgets/base",
       "_view_module_version": "1.2.0",
       "_view_name": "LayoutView",
       "align_content": null,
       "align_items": null,
       "align_self": null,
       "border": null,
       "bottom": null,
       "display": null,
       "flex": null,
       "flex_flow": null,
       "grid_area": null,
       "grid_auto_columns": null,
       "grid_auto_flow": null,
       "grid_auto_rows": null,
       "grid_column": null,
       "grid_gap": null,
       "grid_row": null,
       "grid_template_areas": null,
       "grid_template_columns": null,
       "grid_template_rows": null,
       "height": null,
       "justify_content": null,
       "justify_items": null,
       "left": null,
       "margin": null,
       "max_height": null,
       "max_width": null,
       "min_height": null,
       "min_width": null,
       "object_fit": null,
       "object_position": null,
       "order": null,
       "overflow": null,
       "overflow_x": null,
       "overflow_y": null,
       "padding": null,
       "right": null,
       "top": null,
       "visibility": null,
       "width": null
      }
     },
     "34f1c19528a24e80b21d8964e61c422a": {
      "model_module": "@jupyter-widgets/base",
      "model_module_version": "1.2.0",
      "model_name": "LayoutModel",
      "state": {
       "_model_module": "@jupyter-widgets/base",
       "_model_module_version": "1.2.0",
       "_model_name": "LayoutModel",
       "_view_count": null,
       "_view_module": "@jupyter-widgets/base",
       "_view_module_version": "1.2.0",
       "_view_name": "LayoutView",
       "align_content": null,
       "align_items": null,
       "align_self": null,
       "border": null,
       "bottom": null,
       "display": null,
       "flex": null,
       "flex_flow": null,
       "grid_area": null,
       "grid_auto_columns": null,
       "grid_auto_flow": null,
       "grid_auto_rows": null,
       "grid_column": null,
       "grid_gap": null,
       "grid_row": null,
       "grid_template_areas": null,
       "grid_template_columns": null,
       "grid_template_rows": null,
       "height": null,
       "justify_content": null,
       "justify_items": null,
       "left": null,
       "margin": null,
       "max_height": null,
       "max_width": null,
       "min_height": null,
       "min_width": null,
       "object_fit": null,
       "object_position": null,
       "order": null,
       "overflow": null,
       "overflow_x": null,
       "overflow_y": null,
       "padding": null,
       "right": null,
       "top": null,
       "visibility": null,
       "width": null
      }
     },
     "3d924cc4658143aaab8e2177cfa0ceab": {
      "model_module": "@jupyter-widgets/controls",
      "model_module_version": "1.5.0",
      "model_name": "HBoxModel",
      "state": {
       "_dom_classes": [],
       "_model_module": "@jupyter-widgets/controls",
       "_model_module_version": "1.5.0",
       "_model_name": "HBoxModel",
       "_view_count": null,
       "_view_module": "@jupyter-widgets/controls",
       "_view_module_version": "1.5.0",
       "_view_name": "HBoxView",
       "box_style": "",
       "children": [
        "IPY_MODEL_8d437f26daca4080812e2d36b2863835",
        "IPY_MODEL_89ad3a4ac9b44c6b9b30db380c516afb",
        "IPY_MODEL_2324624967ee40f198b1748071915b9d"
       ],
       "layout": "IPY_MODEL_df5dec5266334dd9813433a031563255"
      }
     },
     "41bdc4357a01429da6e7b4a86672d564": {
      "model_module": "@jupyter-widgets/controls",
      "model_module_version": "1.5.0",
      "model_name": "FloatProgressModel",
      "state": {
       "_dom_classes": [],
       "_model_module": "@jupyter-widgets/controls",
       "_model_module_version": "1.5.0",
       "_model_name": "FloatProgressModel",
       "_view_count": null,
       "_view_module": "@jupyter-widgets/controls",
       "_view_module_version": "1.5.0",
       "_view_name": "ProgressView",
       "bar_style": "success",
       "description": "",
       "description_tooltip": null,
       "layout": "IPY_MODEL_76770892f2db43bbbfff76fa4a4405c1",
       "max": 1,
       "min": 0,
       "orientation": "horizontal",
       "style": "IPY_MODEL_81556ff293774071a5e0d08e0a2a1b77",
       "value": 1
      }
     },
     "472cdfbe03934f379ac2da66884c9858": {
      "model_module": "@jupyter-widgets/controls",
      "model_module_version": "1.5.0",
      "model_name": "HTMLModel",
      "state": {
       "_dom_classes": [],
       "_model_module": "@jupyter-widgets/controls",
       "_model_module_version": "1.5.0",
       "_model_name": "HTMLModel",
       "_view_count": null,
       "_view_module": "@jupyter-widgets/controls",
       "_view_module_version": "1.5.0",
       "_view_name": "HTMLView",
       "description": "",
       "description_tooltip": null,
       "layout": "IPY_MODEL_127db7fd63af47f184ae880b86e46c76",
       "placeholder": "​",
       "style": "IPY_MODEL_8cb7895b53dc40748f8e7a306b61be64",
       "value": " 1/1 [00:00&lt;00:00, 57.52it/s]"
      }
     },
     "48c8bbec6d86470c9fce73b611d0af0d": {
      "model_module": "@jupyter-widgets/controls",
      "model_module_version": "1.5.0",
      "model_name": "HBoxModel",
      "state": {
       "_dom_classes": [],
       "_model_module": "@jupyter-widgets/controls",
       "_model_module_version": "1.5.0",
       "_model_name": "HBoxModel",
       "_view_count": null,
       "_view_module": "@jupyter-widgets/controls",
       "_view_module_version": "1.5.0",
       "_view_name": "HBoxView",
       "box_style": "",
       "children": [
        "IPY_MODEL_8d71d6ad4a86455aa6b937ec64e95a25",
        "IPY_MODEL_41bdc4357a01429da6e7b4a86672d564",
        "IPY_MODEL_07b374a02c554af4a056e71ebe6dec78"
       ],
       "layout": "IPY_MODEL_32d0b6a990f646a08ca0694795c48287"
      }
     },
     "521257acf20341a6815f489e04bb88e0": {
      "model_module": "@jupyter-widgets/controls",
      "model_module_version": "1.5.0",
      "model_name": "DescriptionStyleModel",
      "state": {
       "_model_module": "@jupyter-widgets/controls",
       "_model_module_version": "1.5.0",
       "_model_name": "DescriptionStyleModel",
       "_view_count": null,
       "_view_module": "@jupyter-widgets/base",
       "_view_module_version": "1.2.0",
       "_view_name": "StyleView",
       "description_width": ""
      }
     },
     "5467127bb2394d51a3f2f79fd129ed21": {
      "model_module": "@jupyter-widgets/controls",
      "model_module_version": "1.5.0",
      "model_name": "ProgressStyleModel",
      "state": {
       "_model_module": "@jupyter-widgets/controls",
       "_model_module_version": "1.5.0",
       "_model_name": "ProgressStyleModel",
       "_view_count": null,
       "_view_module": "@jupyter-widgets/base",
       "_view_module_version": "1.2.0",
       "_view_name": "StyleView",
       "bar_color": null,
       "description_width": ""
      }
     },
     "63a2d4f43b844c75804ffe511b73a00a": {
      "model_module": "@jupyter-widgets/controls",
      "model_module_version": "1.5.0",
      "model_name": "HBoxModel",
      "state": {
       "_dom_classes": [],
       "_model_module": "@jupyter-widgets/controls",
       "_model_module_version": "1.5.0",
       "_model_name": "HBoxModel",
       "_view_count": null,
       "_view_module": "@jupyter-widgets/controls",
       "_view_module_version": "1.5.0",
       "_view_name": "HBoxView",
       "box_style": "",
       "children": [
        "IPY_MODEL_0102f2ed03424d55897eec8f86041161",
        "IPY_MODEL_ec8e187fca844c538e5091caa110e2a9",
        "IPY_MODEL_fb1b8aaa420840c0a49fc23ceaa274aa"
       ],
       "layout": "IPY_MODEL_2c72c6fa713949879ed939c5325625c0"
      }
     },
     "6fe3ab1931c648d9aa963d0e6c7a9cc5": {
      "model_module": "@jupyter-widgets/base",
      "model_module_version": "1.2.0",
      "model_name": "LayoutModel",
      "state": {
       "_model_module": "@jupyter-widgets/base",
       "_model_module_version": "1.2.0",
       "_model_name": "LayoutModel",
       "_view_count": null,
       "_view_module": "@jupyter-widgets/base",
       "_view_module_version": "1.2.0",
       "_view_name": "LayoutView",
       "align_content": null,
       "align_items": null,
       "align_self": null,
       "border": null,
       "bottom": null,
       "display": null,
       "flex": null,
       "flex_flow": null,
       "grid_area": null,
       "grid_auto_columns": null,
       "grid_auto_flow": null,
       "grid_auto_rows": null,
       "grid_column": null,
       "grid_gap": null,
       "grid_row": null,
       "grid_template_areas": null,
       "grid_template_columns": null,
       "grid_template_rows": null,
       "height": null,
       "justify_content": null,
       "justify_items": null,
       "left": null,
       "margin": null,
       "max_height": null,
       "max_width": null,
       "min_height": null,
       "min_width": null,
       "object_fit": null,
       "object_position": null,
       "order": null,
       "overflow": null,
       "overflow_x": null,
       "overflow_y": null,
       "padding": null,
       "right": null,
       "top": null,
       "visibility": null,
       "width": null
      }
     },
     "76770892f2db43bbbfff76fa4a4405c1": {
      "model_module": "@jupyter-widgets/base",
      "model_module_version": "1.2.0",
      "model_name": "LayoutModel",
      "state": {
       "_model_module": "@jupyter-widgets/base",
       "_model_module_version": "1.2.0",
       "_model_name": "LayoutModel",
       "_view_count": null,
       "_view_module": "@jupyter-widgets/base",
       "_view_module_version": "1.2.0",
       "_view_name": "LayoutView",
       "align_content": null,
       "align_items": null,
       "align_self": null,
       "border": null,
       "bottom": null,
       "display": null,
       "flex": null,
       "flex_flow": null,
       "grid_area": null,
       "grid_auto_columns": null,
       "grid_auto_flow": null,
       "grid_auto_rows": null,
       "grid_column": null,
       "grid_gap": null,
       "grid_row": null,
       "grid_template_areas": null,
       "grid_template_columns": null,
       "grid_template_rows": null,
       "height": null,
       "justify_content": null,
       "justify_items": null,
       "left": null,
       "margin": null,
       "max_height": null,
       "max_width": null,
       "min_height": null,
       "min_width": null,
       "object_fit": null,
       "object_position": null,
       "order": null,
       "overflow": null,
       "overflow_x": null,
       "overflow_y": null,
       "padding": null,
       "right": null,
       "top": null,
       "visibility": null,
       "width": null
      }
     },
     "7804653873164d5095338f6c33c8bca0": {
      "model_module": "@jupyter-widgets/controls",
      "model_module_version": "1.5.0",
      "model_name": "DescriptionStyleModel",
      "state": {
       "_model_module": "@jupyter-widgets/controls",
       "_model_module_version": "1.5.0",
       "_model_name": "DescriptionStyleModel",
       "_view_count": null,
       "_view_module": "@jupyter-widgets/base",
       "_view_module_version": "1.2.0",
       "_view_name": "StyleView",
       "description_width": ""
      }
     },
     "78253557154b4357b879fa789cd2122f": {
      "model_module": "@jupyter-widgets/controls",
      "model_module_version": "1.5.0",
      "model_name": "DescriptionStyleModel",
      "state": {
       "_model_module": "@jupyter-widgets/controls",
       "_model_module_version": "1.5.0",
       "_model_name": "DescriptionStyleModel",
       "_view_count": null,
       "_view_module": "@jupyter-widgets/base",
       "_view_module_version": "1.2.0",
       "_view_name": "StyleView",
       "description_width": ""
      }
     },
     "7a631d51b2114cceae699b22bf6efc21": {
      "model_module": "@jupyter-widgets/base",
      "model_module_version": "1.2.0",
      "model_name": "LayoutModel",
      "state": {
       "_model_module": "@jupyter-widgets/base",
       "_model_module_version": "1.2.0",
       "_model_name": "LayoutModel",
       "_view_count": null,
       "_view_module": "@jupyter-widgets/base",
       "_view_module_version": "1.2.0",
       "_view_name": "LayoutView",
       "align_content": null,
       "align_items": null,
       "align_self": null,
       "border": null,
       "bottom": null,
       "display": null,
       "flex": null,
       "flex_flow": null,
       "grid_area": null,
       "grid_auto_columns": null,
       "grid_auto_flow": null,
       "grid_auto_rows": null,
       "grid_column": null,
       "grid_gap": null,
       "grid_row": null,
       "grid_template_areas": null,
       "grid_template_columns": null,
       "grid_template_rows": null,
       "height": null,
       "justify_content": null,
       "justify_items": null,
       "left": null,
       "margin": null,
       "max_height": null,
       "max_width": null,
       "min_height": null,
       "min_width": null,
       "object_fit": null,
       "object_position": null,
       "order": null,
       "overflow": null,
       "overflow_x": null,
       "overflow_y": null,
       "padding": null,
       "right": null,
       "top": null,
       "visibility": null,
       "width": null
      }
     },
     "81556ff293774071a5e0d08e0a2a1b77": {
      "model_module": "@jupyter-widgets/controls",
      "model_module_version": "1.5.0",
      "model_name": "ProgressStyleModel",
      "state": {
       "_model_module": "@jupyter-widgets/controls",
       "_model_module_version": "1.5.0",
       "_model_name": "ProgressStyleModel",
       "_view_count": null,
       "_view_module": "@jupyter-widgets/base",
       "_view_module_version": "1.2.0",
       "_view_name": "StyleView",
       "bar_color": null,
       "description_width": ""
      }
     },
     "860d6e7fa79c466eab47604e0357707b": {
      "model_module": "@jupyter-widgets/base",
      "model_module_version": "1.2.0",
      "model_name": "LayoutModel",
      "state": {
       "_model_module": "@jupyter-widgets/base",
       "_model_module_version": "1.2.0",
       "_model_name": "LayoutModel",
       "_view_count": null,
       "_view_module": "@jupyter-widgets/base",
       "_view_module_version": "1.2.0",
       "_view_name": "LayoutView",
       "align_content": null,
       "align_items": null,
       "align_self": null,
       "border": null,
       "bottom": null,
       "display": null,
       "flex": null,
       "flex_flow": null,
       "grid_area": null,
       "grid_auto_columns": null,
       "grid_auto_flow": null,
       "grid_auto_rows": null,
       "grid_column": null,
       "grid_gap": null,
       "grid_row": null,
       "grid_template_areas": null,
       "grid_template_columns": null,
       "grid_template_rows": null,
       "height": null,
       "justify_content": null,
       "justify_items": null,
       "left": null,
       "margin": null,
       "max_height": null,
       "max_width": null,
       "min_height": null,
       "min_width": null,
       "object_fit": null,
       "object_position": null,
       "order": null,
       "overflow": null,
       "overflow_x": null,
       "overflow_y": null,
       "padding": null,
       "right": null,
       "top": null,
       "visibility": null,
       "width": null
      }
     },
     "89ad3a4ac9b44c6b9b30db380c516afb": {
      "model_module": "@jupyter-widgets/controls",
      "model_module_version": "1.5.0",
      "model_name": "FloatProgressModel",
      "state": {
       "_dom_classes": [],
       "_model_module": "@jupyter-widgets/controls",
       "_model_module_version": "1.5.0",
       "_model_name": "FloatProgressModel",
       "_view_count": null,
       "_view_module": "@jupyter-widgets/controls",
       "_view_module_version": "1.5.0",
       "_view_name": "ProgressView",
       "bar_style": "success",
       "description": "",
       "description_tooltip": null,
       "layout": "IPY_MODEL_981bf242b74d49a899024234aa3b2ae9",
       "max": 1,
       "min": 0,
       "orientation": "horizontal",
       "style": "IPY_MODEL_be5cc4e3b0c64fb89b73ed9714c76980",
       "value": 1
      }
     },
     "8cb7895b53dc40748f8e7a306b61be64": {
      "model_module": "@jupyter-widgets/controls",
      "model_module_version": "1.5.0",
      "model_name": "DescriptionStyleModel",
      "state": {
       "_model_module": "@jupyter-widgets/controls",
       "_model_module_version": "1.5.0",
       "_model_name": "DescriptionStyleModel",
       "_view_count": null,
       "_view_module": "@jupyter-widgets/base",
       "_view_module_version": "1.2.0",
       "_view_name": "StyleView",
       "description_width": ""
      }
     },
     "8d437f26daca4080812e2d36b2863835": {
      "model_module": "@jupyter-widgets/controls",
      "model_module_version": "1.5.0",
      "model_name": "HTMLModel",
      "state": {
       "_dom_classes": [],
       "_model_module": "@jupyter-widgets/controls",
       "_model_module_version": "1.5.0",
       "_model_name": "HTMLModel",
       "_view_count": null,
       "_view_module": "@jupyter-widgets/controls",
       "_view_module_version": "1.5.0",
       "_view_name": "HTMLView",
       "description": "",
       "description_tooltip": null,
       "layout": "IPY_MODEL_34f1c19528a24e80b21d8964e61c422a",
       "placeholder": "​",
       "style": "IPY_MODEL_78253557154b4357b879fa789cd2122f",
       "value": "Downloading data files: 100%"
      }
     },
     "8d4506eb4abf4b58998e4398cff0342e": {
      "model_module": "@jupyter-widgets/controls",
      "model_module_version": "1.5.0",
      "model_name": "FloatProgressModel",
      "state": {
       "_dom_classes": [],
       "_model_module": "@jupyter-widgets/controls",
       "_model_module_version": "1.5.0",
       "_model_name": "FloatProgressModel",
       "_view_count": null,
       "_view_module": "@jupyter-widgets/controls",
       "_view_module_version": "1.5.0",
       "_view_name": "ProgressView",
       "bar_style": "success",
       "description": "",
       "description_tooltip": null,
       "layout": "IPY_MODEL_7a631d51b2114cceae699b22bf6efc21",
       "max": 1,
       "min": 0,
       "orientation": "horizontal",
       "style": "IPY_MODEL_5467127bb2394d51a3f2f79fd129ed21",
       "value": 1
      }
     },
     "8d71d6ad4a86455aa6b937ec64e95a25": {
      "model_module": "@jupyter-widgets/controls",
      "model_module_version": "1.5.0",
      "model_name": "HTMLModel",
      "state": {
       "_dom_classes": [],
       "_model_module": "@jupyter-widgets/controls",
       "_model_module_version": "1.5.0",
       "_model_name": "HTMLModel",
       "_view_count": null,
       "_view_module": "@jupyter-widgets/controls",
       "_view_module_version": "1.5.0",
       "_view_name": "HTMLView",
       "description": "",
       "description_tooltip": null,
       "layout": "IPY_MODEL_a0c49cfb34d14f40b458df62648ee8bd",
       "placeholder": "​",
       "style": "IPY_MODEL_25e7cb26f6cb4b4381ad083917c6db68",
       "value": "Extracting data files: 100%"
      }
     },
     "981bf242b74d49a899024234aa3b2ae9": {
      "model_module": "@jupyter-widgets/base",
      "model_module_version": "1.2.0",
      "model_name": "LayoutModel",
      "state": {
       "_model_module": "@jupyter-widgets/base",
       "_model_module_version": "1.2.0",
       "_model_name": "LayoutModel",
       "_view_count": null,
       "_view_module": "@jupyter-widgets/base",
       "_view_module_version": "1.2.0",
       "_view_name": "LayoutView",
       "align_content": null,
       "align_items": null,
       "align_self": null,
       "border": null,
       "bottom": null,
       "display": null,
       "flex": null,
       "flex_flow": null,
       "grid_area": null,
       "grid_auto_columns": null,
       "grid_auto_flow": null,
       "grid_auto_rows": null,
       "grid_column": null,
       "grid_gap": null,
       "grid_row": null,
       "grid_template_areas": null,
       "grid_template_columns": null,
       "grid_template_rows": null,
       "height": null,
       "justify_content": null,
       "justify_items": null,
       "left": null,
       "margin": null,
       "max_height": null,
       "max_width": null,
       "min_height": null,
       "min_width": null,
       "object_fit": null,
       "object_position": null,
       "order": null,
       "overflow": null,
       "overflow_x": null,
       "overflow_y": null,
       "padding": null,
       "right": null,
       "top": null,
       "visibility": null,
       "width": null
      }
     },
     "9c98ddf34bb8450889bad989e1caf3d4": {
      "model_module": "@jupyter-widgets/base",
      "model_module_version": "1.2.0",
      "model_name": "LayoutModel",
      "state": {
       "_model_module": "@jupyter-widgets/base",
       "_model_module_version": "1.2.0",
       "_model_name": "LayoutModel",
       "_view_count": null,
       "_view_module": "@jupyter-widgets/base",
       "_view_module_version": "1.2.0",
       "_view_name": "LayoutView",
       "align_content": null,
       "align_items": null,
       "align_self": null,
       "border": null,
       "bottom": null,
       "display": null,
       "flex": null,
       "flex_flow": null,
       "grid_area": null,
       "grid_auto_columns": null,
       "grid_auto_flow": null,
       "grid_auto_rows": null,
       "grid_column": null,
       "grid_gap": null,
       "grid_row": null,
       "grid_template_areas": null,
       "grid_template_columns": null,
       "grid_template_rows": null,
       "height": null,
       "justify_content": null,
       "justify_items": null,
       "left": null,
       "margin": null,
       "max_height": null,
       "max_width": null,
       "min_height": null,
       "min_width": null,
       "object_fit": null,
       "object_position": null,
       "order": null,
       "overflow": null,
       "overflow_x": null,
       "overflow_y": null,
       "padding": null,
       "right": null,
       "top": null,
       "visibility": null,
       "width": null
      }
     },
     "9ed2bf332c04464a876cb9637a23e4f3": {
      "model_module": "@jupyter-widgets/controls",
      "model_module_version": "1.5.0",
      "model_name": "DescriptionStyleModel",
      "state": {
       "_model_module": "@jupyter-widgets/controls",
       "_model_module_version": "1.5.0",
       "_model_name": "DescriptionStyleModel",
       "_view_count": null,
       "_view_module": "@jupyter-widgets/base",
       "_view_module_version": "1.2.0",
       "_view_name": "StyleView",
       "description_width": ""
      }
     },
     "a0c49cfb34d14f40b458df62648ee8bd": {
      "model_module": "@jupyter-widgets/base",
      "model_module_version": "1.2.0",
      "model_name": "LayoutModel",
      "state": {
       "_model_module": "@jupyter-widgets/base",
       "_model_module_version": "1.2.0",
       "_model_name": "LayoutModel",
       "_view_count": null,
       "_view_module": "@jupyter-widgets/base",
       "_view_module_version": "1.2.0",
       "_view_name": "LayoutView",
       "align_content": null,
       "align_items": null,
       "align_self": null,
       "border": null,
       "bottom": null,
       "display": null,
       "flex": null,
       "flex_flow": null,
       "grid_area": null,
       "grid_auto_columns": null,
       "grid_auto_flow": null,
       "grid_auto_rows": null,
       "grid_column": null,
       "grid_gap": null,
       "grid_row": null,
       "grid_template_areas": null,
       "grid_template_columns": null,
       "grid_template_rows": null,
       "height": null,
       "justify_content": null,
       "justify_items": null,
       "left": null,
       "margin": null,
       "max_height": null,
       "max_width": null,
       "min_height": null,
       "min_width": null,
       "object_fit": null,
       "object_position": null,
       "order": null,
       "overflow": null,
       "overflow_x": null,
       "overflow_y": null,
       "padding": null,
       "right": null,
       "top": null,
       "visibility": null,
       "width": null
      }
     },
     "aaa2c3532b1d45188c4a1f96b107ee34": {
      "model_module": "@jupyter-widgets/base",
      "model_module_version": "1.2.0",
      "model_name": "LayoutModel",
      "state": {
       "_model_module": "@jupyter-widgets/base",
       "_model_module_version": "1.2.0",
       "_model_name": "LayoutModel",
       "_view_count": null,
       "_view_module": "@jupyter-widgets/base",
       "_view_module_version": "1.2.0",
       "_view_name": "LayoutView",
       "align_content": null,
       "align_items": null,
       "align_self": null,
       "border": null,
       "bottom": null,
       "display": null,
       "flex": null,
       "flex_flow": null,
       "grid_area": null,
       "grid_auto_columns": null,
       "grid_auto_flow": null,
       "grid_auto_rows": null,
       "grid_column": null,
       "grid_gap": null,
       "grid_row": null,
       "grid_template_areas": null,
       "grid_template_columns": null,
       "grid_template_rows": null,
       "height": null,
       "justify_content": null,
       "justify_items": null,
       "left": null,
       "margin": null,
       "max_height": null,
       "max_width": null,
       "min_height": null,
       "min_width": null,
       "object_fit": null,
       "object_position": null,
       "order": null,
       "overflow": null,
       "overflow_x": null,
       "overflow_y": null,
       "padding": null,
       "right": null,
       "top": null,
       "visibility": null,
       "width": null
      }
     },
     "af119242984240af9053c71baace774c": {
      "model_module": "@jupyter-widgets/controls",
      "model_module_version": "1.5.0",
      "model_name": "HBoxModel",
      "state": {
       "_dom_classes": [],
       "_model_module": "@jupyter-widgets/controls",
       "_model_module_version": "1.5.0",
       "_model_name": "HBoxModel",
       "_view_count": null,
       "_view_module": "@jupyter-widgets/controls",
       "_view_module_version": "1.5.0",
       "_view_name": "HBoxView",
       "box_style": "",
       "children": [
        "IPY_MODEL_b6a6a90dc7254b48a467b002a1eb5f7d",
        "IPY_MODEL_8d4506eb4abf4b58998e4398cff0342e",
        "IPY_MODEL_472cdfbe03934f379ac2da66884c9858"
       ],
       "layout": "IPY_MODEL_9c98ddf34bb8450889bad989e1caf3d4"
      }
     },
     "b6a6a90dc7254b48a467b002a1eb5f7d": {
      "model_module": "@jupyter-widgets/controls",
      "model_module_version": "1.5.0",
      "model_name": "HTMLModel",
      "state": {
       "_dom_classes": [],
       "_model_module": "@jupyter-widgets/controls",
       "_model_module_version": "1.5.0",
       "_model_name": "HTMLModel",
       "_view_count": null,
       "_view_module": "@jupyter-widgets/controls",
       "_view_module_version": "1.5.0",
       "_view_name": "HTMLView",
       "description": "",
       "description_tooltip": null,
       "layout": "IPY_MODEL_aaa2c3532b1d45188c4a1f96b107ee34",
       "placeholder": "​",
       "style": "IPY_MODEL_9ed2bf332c04464a876cb9637a23e4f3",
       "value": "100%"
      }
     },
     "be5cc4e3b0c64fb89b73ed9714c76980": {
      "model_module": "@jupyter-widgets/controls",
      "model_module_version": "1.5.0",
      "model_name": "ProgressStyleModel",
      "state": {
       "_model_module": "@jupyter-widgets/controls",
       "_model_module_version": "1.5.0",
       "_model_name": "ProgressStyleModel",
       "_view_count": null,
       "_view_module": "@jupyter-widgets/base",
       "_view_module_version": "1.2.0",
       "_view_name": "StyleView",
       "bar_color": null,
       "description_width": ""
      }
     },
     "c8c46bf6388243a4bcc337298eb186e2": {
      "model_module": "@jupyter-widgets/base",
      "model_module_version": "1.2.0",
      "model_name": "LayoutModel",
      "state": {
       "_model_module": "@jupyter-widgets/base",
       "_model_module_version": "1.2.0",
       "_model_name": "LayoutModel",
       "_view_count": null,
       "_view_module": "@jupyter-widgets/base",
       "_view_module_version": "1.2.0",
       "_view_name": "LayoutView",
       "align_content": null,
       "align_items": null,
       "align_self": null,
       "border": null,
       "bottom": null,
       "display": null,
       "flex": null,
       "flex_flow": null,
       "grid_area": null,
       "grid_auto_columns": null,
       "grid_auto_flow": null,
       "grid_auto_rows": null,
       "grid_column": null,
       "grid_gap": null,
       "grid_row": null,
       "grid_template_areas": null,
       "grid_template_columns": null,
       "grid_template_rows": null,
       "height": null,
       "justify_content": null,
       "justify_items": null,
       "left": null,
       "margin": null,
       "max_height": null,
       "max_width": null,
       "min_height": null,
       "min_width": null,
       "object_fit": null,
       "object_position": null,
       "order": null,
       "overflow": null,
       "overflow_x": null,
       "overflow_y": null,
       "padding": null,
       "right": null,
       "top": null,
       "visibility": null,
       "width": null
      }
     },
     "cdbb3f0f9fc249ac805dfe1b0bd64b59": {
      "model_module": "@jupyter-widgets/controls",
      "model_module_version": "1.5.0",
      "model_name": "ProgressStyleModel",
      "state": {
       "_model_module": "@jupyter-widgets/controls",
       "_model_module_version": "1.5.0",
       "_model_name": "ProgressStyleModel",
       "_view_count": null,
       "_view_module": "@jupyter-widgets/base",
       "_view_module_version": "1.2.0",
       "_view_name": "StyleView",
       "bar_color": null,
       "description_width": ""
      }
     },
     "df5dec5266334dd9813433a031563255": {
      "model_module": "@jupyter-widgets/base",
      "model_module_version": "1.2.0",
      "model_name": "LayoutModel",
      "state": {
       "_model_module": "@jupyter-widgets/base",
       "_model_module_version": "1.2.0",
       "_model_name": "LayoutModel",
       "_view_count": null,
       "_view_module": "@jupyter-widgets/base",
       "_view_module_version": "1.2.0",
       "_view_name": "LayoutView",
       "align_content": null,
       "align_items": null,
       "align_self": null,
       "border": null,
       "bottom": null,
       "display": null,
       "flex": null,
       "flex_flow": null,
       "grid_area": null,
       "grid_auto_columns": null,
       "grid_auto_flow": null,
       "grid_auto_rows": null,
       "grid_column": null,
       "grid_gap": null,
       "grid_row": null,
       "grid_template_areas": null,
       "grid_template_columns": null,
       "grid_template_rows": null,
       "height": null,
       "justify_content": null,
       "justify_items": null,
       "left": null,
       "margin": null,
       "max_height": null,
       "max_width": null,
       "min_height": null,
       "min_width": null,
       "object_fit": null,
       "object_position": null,
       "order": null,
       "overflow": null,
       "overflow_x": null,
       "overflow_y": null,
       "padding": null,
       "right": null,
       "top": null,
       "visibility": null,
       "width": null
      }
     },
     "eb6febc6702349c19d67d876e0149490": {
      "model_module": "@jupyter-widgets/controls",
      "model_module_version": "1.5.0",
      "model_name": "DescriptionStyleModel",
      "state": {
       "_model_module": "@jupyter-widgets/controls",
       "_model_module_version": "1.5.0",
       "_model_name": "DescriptionStyleModel",
       "_view_count": null,
       "_view_module": "@jupyter-widgets/base",
       "_view_module_version": "1.2.0",
       "_view_name": "StyleView",
       "description_width": ""
      }
     },
     "ec8e187fca844c538e5091caa110e2a9": {
      "model_module": "@jupyter-widgets/controls",
      "model_module_version": "1.5.0",
      "model_name": "FloatProgressModel",
      "state": {
       "_dom_classes": [],
       "_model_module": "@jupyter-widgets/controls",
       "_model_module_version": "1.5.0",
       "_model_name": "FloatProgressModel",
       "_view_count": null,
       "_view_module": "@jupyter-widgets/controls",
       "_view_module_version": "1.5.0",
       "_view_name": "ProgressView",
       "bar_style": "success",
       "description": "",
       "description_tooltip": null,
       "layout": "IPY_MODEL_6fe3ab1931c648d9aa963d0e6c7a9cc5",
       "max": 7322514,
       "min": 0,
       "orientation": "horizontal",
       "style": "IPY_MODEL_cdbb3f0f9fc249ac805dfe1b0bd64b59",
       "value": 7322514
      }
     },
     "fb1b8aaa420840c0a49fc23ceaa274aa": {
      "model_module": "@jupyter-widgets/controls",
      "model_module_version": "1.5.0",
      "model_name": "HTMLModel",
      "state": {
       "_dom_classes": [],
       "_model_module": "@jupyter-widgets/controls",
       "_model_module_version": "1.5.0",
       "_model_name": "HTMLModel",
       "_view_count": null,
       "_view_module": "@jupyter-widgets/controls",
       "_view_module_version": "1.5.0",
       "_view_name": "HTMLView",
       "description": "",
       "description_tooltip": null,
       "layout": "IPY_MODEL_2b6425dda32b4760a622e16e42e9e434",
       "placeholder": "​",
       "style": "IPY_MODEL_7804653873164d5095338f6c33c8bca0",
       "value": " 7.32M/7.32M [00:01&lt;00:00, 6.57MB/s]"
      }
     }
    },
    "version_major": 2,
    "version_minor": 0
   }
  }
 },
 "nbformat": 4,
 "nbformat_minor": 5
}
